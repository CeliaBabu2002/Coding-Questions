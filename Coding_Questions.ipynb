{
  "nbformat": 4,
  "nbformat_minor": 0,
  "metadata": {
    "colab": {
      "provenance": [],
      "authorship_tag": "ABX9TyNKSwphiHnYgkFwW62qTWWg",
      "include_colab_link": true
    },
    "kernelspec": {
      "name": "python3",
      "display_name": "Python 3"
    },
    "language_info": {
      "name": "python"
    }
  },
  "cells": [
    {
      "cell_type": "markdown",
      "metadata": {
        "id": "view-in-github",
        "colab_type": "text"
      },
      "source": [
        "<a href=\"https://colab.research.google.com/github/CeliaBabu2002/Coding-Questions/blob/main/Coding_Questions.ipynb\" target=\"_parent\"><img src=\"https://colab.research.google.com/assets/colab-badge.svg\" alt=\"Open In Colab\"/></a>"
      ]
    },
    {
      "cell_type": "markdown",
      "source": [
        "# Write a code to reverse a number"
      ],
      "metadata": {
        "id": "6Z4XtYbVF8x1"
      }
    },
    {
      "cell_type": "code",
      "execution_count": 10,
      "metadata": {
        "colab": {
          "base_uri": "https://localhost:8080/"
        },
        "id": "Wsg4K7grF4dV",
        "outputId": "4927ff79-7f66-4381-c8fc-554b7504d4c7"
      },
      "outputs": [
        {
          "output_type": "stream",
          "name": "stdout",
          "text": [
            "Enter the Number:589\n",
            "985\n"
          ]
        }
      ],
      "source": [
        "def reverse(s):\n",
        "  r=s[::-1]\n",
        "  return r\n",
        "n=input(\"Enter the Number:\")\n",
        "ans=reverse(n)\n",
        "if(ans):\n",
        "  print(ans)"
      ]
    }
  ]
}