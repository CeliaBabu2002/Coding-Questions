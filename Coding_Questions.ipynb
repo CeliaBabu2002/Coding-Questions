{
  "nbformat": 4,
  "nbformat_minor": 0,
  "metadata": {
    "colab": {
      "provenance": [],
      "authorship_tag": "ABX9TyP05Xo4bveNqYP+c2IVumkW",
      "include_colab_link": true
    },
    "kernelspec": {
      "name": "python3",
      "display_name": "Python 3"
    },
    "language_info": {
      "name": "python"
    }
  },
  "cells": [
    {
      "cell_type": "markdown",
      "metadata": {
        "id": "view-in-github",
        "colab_type": "text"
      },
      "source": [
        "<a href=\"https://colab.research.google.com/github/CeliaBabu2002/Coding-Questions/blob/main/Coding_Questions.ipynb\" target=\"_parent\"><img src=\"https://colab.research.google.com/assets/colab-badge.svg\" alt=\"Open In Colab\"/></a>"
      ]
    },
    {
      "cell_type": "markdown",
      "source": [
        "[coding question](https://prepinsta.com/interview-preparation/technical-interview-questions/most-asked-coding-questions-in-placements/)\n",
        "\n"
      ],
      "metadata": {
        "id": "rQY9CRQ9cSp-"
      }
    },
    {
      "cell_type": "markdown",
      "source": [
        "#Write a code to check for the largest palindrome in an array."
      ],
      "metadata": {
        "id": "sMaKX43kwKW9"
      }
    },
    {
      "cell_type": "code",
      "source": [
        "n = [\"1\",\"545\", \"9868\"]\n",
        "a=[]\n",
        "for i in n:\n",
        "  rev=i[::-1]\n",
        "  if i==rev:\n",
        "    a.append(i)\n",
        "  else:\n",
        "    continue\n",
        "l=max(a)\n",
        "print(l)"
      ],
      "metadata": {
        "colab": {
          "base_uri": "https://localhost:8080/"
        },
        "id": "_0ofu92gwKlp",
        "outputId": "4eaea109-ea67-49bc-e7e0-88435886aeef"
      },
      "execution_count": null,
      "outputs": [
        {
          "output_type": "stream",
          "name": "stdout",
          "text": [
            "545\n"
          ]
        }
      ]
    },
    {
      "cell_type": "markdown",
      "source": [
        "#Write a code to check for the longest palindrome in an array."
      ],
      "metadata": {
        "id": "P5cWHi2_yQj6"
      }
    },
    {
      "cell_type": "code",
      "source": [
        "n = [\"a\", \"aba\", \"abcd\", \"malayalam\", \"xeliailex\"]\n",
        "a = []\n",
        "\n",
        "# Find palindromes\n",
        "for i in n:\n",
        "    rev = i[::-1]\n",
        "    if i == rev:\n",
        "        a.append(i)\n",
        "\n",
        "# Find the length of the longest palindrome(s)\n",
        "if a:\n",
        "    max_length = max(len(i) for i in a)\n",
        "    longest_palindromes = [i for i in a if len(i) == max_length]\n",
        "else:\n",
        "    longest_palindromes = []\n",
        "\n",
        "print(\"The longest palindrome(s) in the array are: {}\".format(longest_palindromes))\n",
        "\n"
      ],
      "metadata": {
        "colab": {
          "base_uri": "https://localhost:8080/"
        },
        "id": "sJ7ChIb7zbCC",
        "outputId": "cdcd6931-08de-4c0c-acbd-a56c68b2eb06"
      },
      "execution_count": null,
      "outputs": [
        {
          "output_type": "stream",
          "name": "stdout",
          "text": [
            "The longest palindrome(s) in the array are: ['malayalam', 'xeliailex']\n"
          ]
        }
      ]
    },
    {
      "cell_type": "markdown",
      "source": [
        "# Write a code to check for the longest palindrome in an array."
      ],
      "metadata": {
        "id": "aKXHHjkpAfjJ"
      }
    },
    {
      "cell_type": "code",
      "source": [
        "n=input(\"enter the no of elements in array:\")\n",
        "for i in range(n):\n",
        "  m=input(\" enter the elemnts:\")\n",
        "a=[]\n",
        "for i in range(len(m)):\n"
      ],
      "metadata": {
        "id": "nPytvT04AfCa"
      },
      "execution_count": null,
      "outputs": []
    },
    {
      "cell_type": "markdown",
      "source": [
        "#Find the non repeating charcter from the string\n",
        "\n"
      ],
      "metadata": {
        "id": "nQhxdMuJ7uX8"
      }
    },
    {
      "cell_type": "code",
      "source": [
        "n=input(\"enter the string:\")\n",
        "for i in n:\n",
        "  count=0\n",
        "  for j in n:\n",
        "    if(i==j):\n",
        "      count+=1\n",
        "    else:\n",
        "      continue\n",
        "    if count>1:\n",
        "      break\n",
        "\n",
        "  if count==1:\n",
        "      print(i,end=\" \")\n",
        "\n"
      ],
      "metadata": {
        "colab": {
          "base_uri": "https://localhost:8080/"
        },
        "id": "Azw7AReE7uAz",
        "outputId": "afcea8b8-d059-4a7c-90f0-8499c794f7bd"
      },
      "execution_count": null,
      "outputs": [
        {
          "output_type": "stream",
          "name": "stdout",
          "text": [
            "enter the string:celiaaaa\n",
            "c e l i "
          ]
        }
      ]
    },
    {
      "cell_type": "markdown",
      "source": [
        "#Write a program to replace a substring in a *string*"
      ],
      "metadata": {
        "id": "I2x6Cr7x_SOj"
      }
    },
    {
      "cell_type": "code",
      "source": [
        "str1=input(\"enter the string:\")\n",
        "m=input(\"enter the replace:\")\n",
        "re=input(\"enter the string to replace:\")\n",
        "\n",
        "new=str1.replace(m,re)\n",
        "print(new)"
      ],
      "metadata": {
        "colab": {
          "base_uri": "https://localhost:8080/"
        },
        "id": "uDIm-1FW_R7K",
        "outputId": "a5376064-8481-47ef-ad45-ab89ca65200a"
      },
      "execution_count": null,
      "outputs": [
        {
          "output_type": "stream",
          "name": "stdout",
          "text": [
            "enter the string:celia\n",
            "enter the replace:el\n",
            "enter the string to replace:rd\n",
            "crdia\n"
          ]
        }
      ]
    },
    {
      "cell_type": "markdown",
      "source": [
        "#Write code to Check if two strings are Anagram or not"
      ],
      "metadata": {
        "id": "26E_mMiIv1nU"
      }
    },
    {
      "cell_type": "code",
      "source": [
        "n=input(\"Enter the string:\")\n",
        "m=input(\"Enter the string:\")\n",
        "if len(n)!=len(m):\n",
        "  print(\"not Anagram\")\n",
        "sn=sorted(n)\n",
        "sm=sorted(m)\n",
        "if sn==sm:\n",
        "  print(\"Anagram\")\n",
        "else:\n",
        "  print(\"Not Anagram\")"
      ],
      "metadata": {
        "colab": {
          "base_uri": "https://localhost:8080/"
        },
        "id": "RlUz6DZ2vz16",
        "outputId": "4bb09907-6f68-4b4e-db45-5d71e1531c3a"
      },
      "execution_count": null,
      "outputs": [
        {
          "output_type": "stream",
          "name": "stdout",
          "text": [
            "Enter the string:123\n",
            "Enter the string:456\n",
            "Not Anagram\n"
          ]
        }
      ]
    },
    {
      "cell_type": "markdown",
      "source": [
        "#Write code to Calculate frequency of characters in a string"
      ],
      "metadata": {
        "id": "NKqCDTT859v0"
      }
    },
    {
      "cell_type": "code",
      "source": [
        "str1=input(\"enter the string:\")\n",
        "char=input(\"enter the character:\")\n",
        "count=0\n",
        "for i in str1:\n",
        "  if i.isalpha():\n",
        "    if i==char:\n",
        "      count+=1\n",
        "    else:\n",
        "      continue\n",
        "print(\"frequency of {} is {}\".format(char,count))"
      ],
      "metadata": {
        "colab": {
          "base_uri": "https://localhost:8080/"
        },
        "id": "oo2so6qV59BK",
        "outputId": "835e25fb-cc57-444f-acb8-a03b73a0ecea"
      },
      "execution_count": null,
      "outputs": [
        {
          "output_type": "stream",
          "name": "stdout",
          "text": [
            "enter the string:i am athulya\n",
            "enter the character:a\n",
            "frequency of a is 3\n"
          ]
        }
      ]
    },
    {
      "cell_type": "markdown",
      "source": [
        "#Write code to check if two strings match where one string contains wildcard characters"
      ],
      "metadata": {
        "id": "Luh4m-CV9YoD"
      }
    },
    {
      "cell_type": "code",
      "source": [],
      "metadata": {
        "id": "uW3PE7Kl9YCV"
      },
      "execution_count": null,
      "outputs": []
    },
    {
      "cell_type": "markdown",
      "source": [
        "# Write a code to reverse a number"
      ],
      "metadata": {
        "id": "6Z4XtYbVF8x1"
      }
    },
    {
      "cell_type": "code",
      "execution_count": null,
      "metadata": {
        "colab": {
          "base_uri": "https://localhost:8080/"
        },
        "id": "Wsg4K7grF4dV",
        "outputId": "4927ff79-7f66-4381-c8fc-554b7504d4c7"
      },
      "outputs": [
        {
          "output_type": "stream",
          "name": "stdout",
          "text": [
            "Enter the Number:589\n",
            "985\n"
          ]
        }
      ],
      "source": [
        "def reverse(s):\n",
        "  r=s[::-1]\n",
        "  return r\n",
        "n=input(\"Enter the Number:\")\n",
        "ans=reverse(n)\n",
        "if(ans):\n",
        "  print(ans)"
      ]
    },
    {
      "cell_type": "code",
      "source": [
        "n=int(input(\"enter the number\"))\n",
        "temp=n\n",
        "sum=0\n",
        "while(n!=0):\n",
        "  digit=n%10\n",
        "  sum=sum+digit\n",
        "  n=n//10\n",
        "print(\"the given number is {} and the reverse is {}\".format(temp,sum))\n"
      ],
      "metadata": {
        "colab": {
          "base_uri": "https://localhost:8080/"
        },
        "id": "C1L4P2BoHoQJ",
        "outputId": "2dfcff5c-f21e-4586-8b69-4faa4b7488e9"
      },
      "execution_count": null,
      "outputs": [
        {
          "output_type": "stream",
          "name": "stdout",
          "text": [
            "enter the number589\n",
            "the given number is 589 and the reverse is 22\n"
          ]
        }
      ]
    },
    {
      "cell_type": "markdown",
      "source": [
        "#Find the factorial of the number"
      ],
      "metadata": {
        "id": "AcR779oL2Bx8"
      }
    },
    {
      "cell_type": "code",
      "source": [
        "n=int(input(\"Enter the number:\"))\n",
        "fact=1\n",
        "for i in range(1,n+1):\n",
        "  fact=fact*i\n",
        "print(fact,end=\" \")"
      ],
      "metadata": {
        "colab": {
          "base_uri": "https://localhost:8080/"
        },
        "id": "acjtDl4L2CHC",
        "outputId": "1c9a9f63-6cab-4f7f-bed7-2b1d8f08e842"
      },
      "execution_count": null,
      "outputs": [
        {
          "output_type": "stream",
          "name": "stdout",
          "text": [
            "Enter the number:5\n",
            "120 "
          ]
        }
      ]
    },
    {
      "cell_type": "markdown",
      "source": [
        "#Write the code to find the Fibonacci series upto the nth term."
      ],
      "metadata": {
        "id": "U7WCxlnFJHhB"
      }
    },
    {
      "cell_type": "code",
      "source": [
        "n=int(input(\"enter the number:\"))\n",
        "t1=0\n",
        "t2=1\n",
        "print(\"the fibinoacci series:\",t1,t2,end=\" \")\n",
        "for i in range(2,n+1):\n",
        "  t3=t1+t2\n",
        "  print(t3,end=\" \")\n",
        "  t1=t2\n",
        "  t2=t3\n",
        "\n"
      ],
      "metadata": {
        "colab": {
          "base_uri": "https://localhost:8080/"
        },
        "id": "-jOb1UyaJEtk",
        "outputId": "34ba1f29-fb9c-4f73-8dbf-729c2ce38c99"
      },
      "execution_count": null,
      "outputs": [
        {
          "output_type": "stream",
          "name": "stdout",
          "text": [
            "enter the number:5\n",
            "the fibinoacci series: 0 1 1 2 3 5 "
          ]
        }
      ]
    },
    {
      "cell_type": "markdown",
      "source": [
        "#Write code of Greatest Common Divisor and Least Common Multiple"
      ],
      "metadata": {
        "id": "iPDx0w4SK5rm"
      }
    },
    {
      "cell_type": "code",
      "source": [
        "n=int(input(\"enter the number:\"))\n",
        "m=int(input(\"enter the number:\"))\n",
        "product = m*n\n",
        "while(n>0):\n",
        "  remainder=m%n\n",
        "  m=n\n",
        "  n=remainder\n",
        "gcd=m\n",
        "lcm=product//m\n",
        "print(\"The GCD is {} and LCM  is {}\".format(gcd,lcm))"
      ],
      "metadata": {
        "colab": {
          "base_uri": "https://localhost:8080/"
        },
        "id": "MdtjOS5hK8e0",
        "outputId": "21d77619-62ed-4471-aba3-43cc624304ff"
      },
      "execution_count": null,
      "outputs": [
        {
          "output_type": "stream",
          "name": "stdout",
          "text": [
            "enter the number:10\n",
            "enter the number:2\n",
            "The GCD is 2 and LCM is 10\n"
          ]
        }
      ]
    },
    {
      "cell_type": "markdown",
      "source": [
        "# Write code of  Perfect number\n",
        "\n",
        "*   A perfect number is a positive integer whose sum of its proper divisors is equal to one. Examples of perfect numbers: Sum of 1, 2, and 3 equals 6, which is the lowest perfect number. The numbers 28, 496, and 8,128 are also perfect.\n",
        "\n"
      ],
      "metadata": {
        "id": "AgHmU-rbVb63"
      }
    },
    {
      "cell_type": "code",
      "source": [
        "n=int(input(\"Enter the number:\"))\n",
        "sum=0\n",
        "for i in range(1,n):\n",
        "  if(n%i==0):\n",
        "    sum=sum+i\n",
        "if(sum==n):\n",
        "  print(\"The number {} is Perfect Number\".format(n))\n",
        "else:\n",
        "  print(\"The number {} is not Perfect Number\".format(n))\n",
        "\n"
      ],
      "metadata": {
        "colab": {
          "base_uri": "https://localhost:8080/"
        },
        "id": "gH0fvR4NVg31",
        "outputId": "78eaa8f8-6595-43a5-d4cf-277e8fa7e570"
      },
      "execution_count": null,
      "outputs": [
        {
          "output_type": "stream",
          "name": "stdout",
          "text": [
            "Enter the number:6\n",
            "The number 6 is Perfect Number\n"
          ]
        }
      ]
    },
    {
      "cell_type": "markdown",
      "source": [
        "#Reverse an Array\n",
        "\n",
        "*   Using the reverse() method\n",
        "*   Using the slicing technique\n",
        "*   Using the reversed() function\n",
        "*   Using a loop\n",
        "*   Using the built-in method, list.reverse():\n",
        "\n",
        "\n",
        "\n"
      ],
      "metadata": {
        "id": "1AD-CPHZYr-H"
      }
    },
    {
      "cell_type": "code",
      "source": [
        "n=int(input(\"enter the number of elements:\"))\n",
        "array=[]\n",
        "for i in range(n):\n",
        "  ele=int(input())\n",
        "  array.append(ele)\n",
        "array.reverse()\n",
        "print(array)\n"
      ],
      "metadata": {
        "colab": {
          "base_uri": "https://localhost:8080/"
        },
        "id": "eNC08oVLYrNs",
        "outputId": "82557e18-077d-4ff2-b9d3-a25f2408958b"
      },
      "execution_count": null,
      "outputs": [
        {
          "output_type": "stream",
          "name": "stdout",
          "text": [
            "enter the number of elements:3\n",
            "2\n",
            "1\n",
            "0\n",
            "[0, 1, 2]\n"
          ]
        }
      ]
    },
    {
      "cell_type": "code",
      "source": [
        "n=int(input(\"enter the number of elements:\"))\n",
        "array=[]\n",
        "for i in range(n):\n",
        "  ele=int(input())\n",
        "  array.append(ele)\n",
        "reverse=array[::-1]\n",
        "print(reverse)"
      ],
      "metadata": {
        "colab": {
          "base_uri": "https://localhost:8080/"
        },
        "id": "TagHUiZfazmi",
        "outputId": "27841a91-c666-4d8b-e9fc-77475ba6531f"
      },
      "execution_count": null,
      "outputs": [
        {
          "output_type": "stream",
          "name": "stdout",
          "text": [
            "enter the number of elements:2\n",
            "2\n",
            "1\n",
            "[1, 2]\n"
          ]
        }
      ]
    },
    {
      "cell_type": "code",
      "source": [
        "n=int(input(\"enter the number of elements:\"))\n",
        "array=[]\n",
        "for i in range(n):\n",
        "  ele=int(input())\n",
        "  array.append(ele)\n",
        "reverse=list(reversed(array))\n",
        "print(reverse)"
      ],
      "metadata": {
        "colab": {
          "base_uri": "https://localhost:8080/"
        },
        "id": "Cp98vrikbRe5",
        "outputId": "bff79ad8-0428-4dfd-e755-1f5b54accb26"
      },
      "execution_count": null,
      "outputs": [
        {
          "output_type": "stream",
          "name": "stdout",
          "text": [
            "enter the number of elements:2\n",
            "1\n",
            "2\n",
            "[2, 1]\n"
          ]
        }
      ]
    },
    {
      "cell_type": "code",
      "source": [
        "array = [1, 2, 3, 4, 5]\n",
        "reversed_array = []\n",
        "for i in range(len(array) - 1, -1, -1):\n",
        "    reversed_array.append(array[i])\n",
        "print(reversed_array)"
      ],
      "metadata": {
        "colab": {
          "base_uri": "https://localhost:8080/"
        },
        "id": "6bNJV5HObv_V",
        "outputId": "9ff089df-23fa-45ba-fa54-b662e4c32a97"
      },
      "execution_count": null,
      "outputs": [
        {
          "output_type": "stream",
          "name": "stdout",
          "text": [
            "[5, 4, 3, 2, 1]\n"
          ]
        }
      ]
    },
    {
      "cell_type": "code",
      "source": [
        "array = [1, 2, 3, 4, 5]\n",
        "array.reverse()\n",
        "print(array)"
      ],
      "metadata": {
        "colab": {
          "base_uri": "https://localhost:8080/"
        },
        "id": "xKSoQfYCcZ9S",
        "outputId": "fe595b93-88d9-4d8e-a756-28807e8475c7"
      },
      "execution_count": null,
      "outputs": [
        {
          "output_type": "stream",
          "name": "stdout",
          "text": [
            "[5, 4, 3, 2, 1]\n"
          ]
        }
      ]
    },
    {
      "cell_type": "markdown",
      "source": [
        "#Write code to Check if two strings are Anagram or not\n",
        "\n",
        "An anagram is a word or phrase formed by changing the order of the letters in another word or phrase. For example, ' triangle' is an anagram of ' integral'."
      ],
      "metadata": {
        "id": "K9seZd8RdF57"
      }
    },
    {
      "cell_type": "code",
      "source": [
        "str1=input(\"enter the string\")\n",
        "str2=input(\"enter the string\")\n",
        "if(len(str1)!=len(str2)):\n",
        "  print(\"Not Anagram\")\n",
        "s1=sorted(str1)\n",
        "s2=sorted(str2)\n",
        "if(s1==s2):\n",
        "  print(\"Anagram\")\n",
        "else:\n",
        "  print(\"Not Anagram\")"
      ],
      "metadata": {
        "id": "BI6tUlD6dFQE",
        "colab": {
          "base_uri": "https://localhost:8080/"
        },
        "outputId": "e20b135a-661c-470b-ff57-08a795bfd895"
      },
      "execution_count": null,
      "outputs": [
        {
          "output_type": "stream",
          "name": "stdout",
          "text": [
            "enter the stringcake\n",
            "enter the stringkcae\n",
            "Anagram\n"
          ]
        }
      ]
    },
    {
      "cell_type": "markdown",
      "source": [
        " # Write code Check if the given string is Palindrome or not"
      ],
      "metadata": {
        "id": "l3eYwZl8eQcA"
      }
    },
    {
      "cell_type": "code",
      "source": [
        "str1=input(\"Enter the string:\")\n",
        "str2=str1[::-1]\n",
        "if(str1==str2):\n",
        "  print(\"Palindrome\")\n",
        "else:\n",
        "  print(\"Not Palindrome\")\n"
      ],
      "metadata": {
        "colab": {
          "base_uri": "https://localhost:8080/"
        },
        "id": "ahabpZTheN0t",
        "outputId": "6eda914a-f5fb-4b7e-803f-06656193ed36"
      },
      "execution_count": null,
      "outputs": [
        {
          "output_type": "stream",
          "name": "stdout",
          "text": [
            "Enter the string:svd\n",
            "Not Palindrome\n"
          ]
        }
      ]
    },
    {
      "cell_type": "markdown",
      "source": [
        "# Write code to Calculate frequency of characters in a string\n",
        "\n",
        "here you can also use built in fn\n",
        "ie count()\n",
        "\n",
        "\n",
        "eg string=\"celia\"\n",
        "   string.count()"
      ],
      "metadata": {
        "id": "3JFn4HolgYEJ"
      }
    },
    {
      "cell_type": "code",
      "source": [
        "s=input(\"enter the string:\")\n",
        "characters=input(\"enter the characters:\")\n",
        "count=0\n",
        "l=[]\n",
        "for i in characters:\n",
        "  count=s.count(i)\n",
        "  print(\" {} is {}\".format(i,count))"
      ],
      "metadata": {
        "colab": {
          "base_uri": "https://localhost:8080/"
        },
        "id": "zFqltf4EgUl9",
        "outputId": "c956ec5f-dfaf-4e1c-c6ed-d15e332c18e2"
      },
      "execution_count": null,
      "outputs": [
        {
          "output_type": "stream",
          "name": "stdout",
          "text": [
            "enter the string:mmmiiieeejjjj\n",
            "enter the characters:meij\n",
            " m is 3\n",
            " e is 3\n",
            " i is 3\n",
            " j is 4\n"
          ]
        }
      ]
    },
    {
      "cell_type": "markdown",
      "source": [
        "\n",
        "Question 1\n",
        "\n",
        "Johnny was absent in his english class when the vowel topic was taught by the teacher . His english teacher gave him two strings and told him to find the length of the longest common subsequence which contains only vowels, as a punishment for not attending english class yesterday .\n",
        "\n",
        "Help Jhonny by writing a code to find the length of the longest common subsequence\n",
        "\n",
        "Input Specification:\n",
        "\n",
        "    input1: First string given by his teacher\n",
        "    input2: Second string given by his teacher.\n",
        "\n",
        "Output Specification:\n",
        "\n",
        "    Return the length of the longest common subsequence which contains only vowels.\n",
        "\n",
        "Example 1:\n",
        "\n",
        "vowelpunish\n",
        "\n",
        "english\n",
        "\n",
        "Output : 2\n",
        "\n",
        "Example 2:\n",
        "\n",
        "prepinsta\n",
        "\n",
        "prepare\n",
        "\n",
        "Output : 2\n"
      ],
      "metadata": {
        "id": "1KlufrFhbL4u"
      }
    },
    {
      "cell_type": "code",
      "source": [
        "a=input(\"enter the string\")\n",
        "b=input(\"enter the string\")\n",
        "t1=[]\n",
        "t2=[]\n",
        "c1=0;c2=0\n",
        "for i in a:\n",
        "    e=i.lower()\n",
        "    if e in [\"a\",\"e\",\"i\",\"o\",\"u\"]:\n",
        "        t1.append(e)\n",
        "    else:\n",
        "        continue\n",
        "for i in b:\n",
        "    j=i.lower()\n",
        "    if j in [\"a\",\"e\",\"i\",\"o\",\"u\"]:\n",
        "        t2.append(j)\n",
        "    else:\n",
        "        continue\n",
        "for i in t1:\n",
        "    c1+=1\n",
        "for i in t2:\n",
        "    c2+=1\n",
        "\n",
        "if c1>c2:\n",
        "    print(c1)\n",
        "else:\n",
        "    print(c2)"
      ],
      "metadata": {
        "id": "grh6LGXabH1b"
      },
      "execution_count": null,
      "outputs": []
    },
    {
      "cell_type": "markdown",
      "source": [
        "\n",
        "Question 2\n",
        "\n",
        "Naman on his way home found ‘N’ tokens on the ground arranged in a line horizontally. Each token has some number written on it.\n",
        "Naman wants to count the longest sub-sequence of the tokens with a decreasing arrangement.\n",
        "A sub-sequence is a sequence that can be derived from another sequence by deleting some or no elements without changing the order of the remaining elements keeping the relative positions of elements same as it was in the initial sequence. A decreasing sub-sequence is a sub-sequence in which every element is strictly less than the previous number.\n",
        "\n",
        "Your task is to help Naman in finding the longest subsequence of decreasing arrangement of tokens.\n",
        "\n",
        "Input Specification:\n",
        "\n",
        "    input1: integer ‘n’ denoting size of array\n",
        "    input2: integer array ‘A’ containing ‘n’ elements\n",
        "\n",
        "Output Specification:\n",
        "For each test case, print the integer denoting the length of the longest decreasing subsequence.\n",
        "Print the output of each test case in a separate line.\n",
        "\n",
        "Constraints:\n",
        "\n",
        "    1 <= n <= 5000\n",
        "    1 <= A[i] <= 10^9\n",
        "    Time Limit: 1 sec\n",
        "\n",
        "Example1:\n",
        "Input1 : 5\n",
        "Input2 : {5,0,3,2,9}\n",
        "\n",
        "Output: 3\n",
        "Explanation: The longest decreasing subsequence is of length 3, i.e. [5, 3, 2]\n",
        "\n",
        "Example2:\n",
        "\n",
        "input1: 9\n",
        "input2: {15, 27, 14, 38, 63, 55, 46, 65, 85}\n",
        "\n",
        "Output: 3\n",
        "Explanation: The longest decreasing subsequence is of length 3, i.e. [63, 55, 46]\n"
      ],
      "metadata": {
        "id": "x_Q0wrFUdoSK"
      }
    },
    {
      "cell_type": "code",
      "source": [
        "n=int(input(\"enter the number of elements in array:\"))\n",
        "arr=list(map(int,input().split()))\n",
        "\n",
        "token=[1]*n\n",
        "\n",
        "for i in range(1,n):\n",
        "  for j in range(i):\n",
        "    if arr[i]<arr[j] and token[i]<arr[j]:\n",
        "      token[i]=token[j]+1\n",
        "\n",
        "print(max(token))"
      ],
      "metadata": {
        "colab": {
          "base_uri": "https://localhost:8080/"
        },
        "id": "Lg86hhC3dmpe",
        "outputId": "682c7aad-940d-49be-e757-e3c5836d1535"
      },
      "execution_count": 2,
      "outputs": [
        {
          "output_type": "stream",
          "name": "stdout",
          "text": [
            "enter the number of elements in array:4\n",
            "5 4 2 8\n",
            "3\n"
          ]
        }
      ]
    },
    {
      "cell_type": "markdown",
      "source": [
        "Question 3\n",
        "\n",
        "Maxwell filled his university exam form in which he has filled his mid sem marks but by mistake he has filled DS marks in AI field and AI marks in DS field. He wants to update his mid sem marks but for that he has to pay some penalty.\n",
        "\n",
        "Penalty equal to the sum of absolute differences between adjacent subject marks.\n",
        "\n",
        "Return the minimum penalty that must be paid by him.\n",
        "\n",
        "Input Specification:\n",
        "\n",
        "    input1: length of an integer array of numbers (2 <= input 1 <= 1000)\n",
        "    input2: integer array(1 <= input2[i] <= 10000)\n",
        "\n",
        "Example 1:\n",
        "\n",
        "Input : arr = {4, 1, 5}\n",
        "\n",
        "Output : 5\n",
        "\n",
        "Explanation: Sum of absolute differences is |4-5| + |1-4| + |5-4|\n",
        "\n",
        "Example 2:\n",
        "\n",
        "Input : arr = {5, 10, 1, 4, 8, 7}\n",
        "\n",
        "Output : 9\n",
        "\n",
        "Example 3:\n",
        "\n",
        "Input : {12, 10, 15, 22, 21, 20, 1, 8, 9}\n",
        "\n",
        "Output : 18"
      ],
      "metadata": {
        "id": "GATmupKkgZ2w"
      }
    },
    {
      "cell_type": "code",
      "source": [
        "n=int(input(\"enter the no of elemrnts in array:\"))\n",
        "arr=sorted(list(map(int,input().split())))\n",
        "\n",
        "s=abs(arr[1]-arr[0])+abs(arr[-1]-arr[-2])\n",
        "for i in range(1,n-1):\n",
        "  s+=min(abs(arr[i]-arr[i-1]),abs(arr[i]-arr[i+1]))\n",
        "\n",
        "print(s)\n"
      ],
      "metadata": {
        "colab": {
          "base_uri": "https://localhost:8080/"
        },
        "id": "YU0PHVW2dmwG",
        "outputId": "84922a46-6e34-46b5-e852-bc8869a74001"
      },
      "execution_count": 5,
      "outputs": [
        {
          "output_type": "stream",
          "name": "stdout",
          "text": [
            "enter the no of elemrnts in array:3\n",
            "4 5 1\n",
            "5\n"
          ]
        }
      ]
    },
    {
      "cell_type": "markdown",
      "source": [
        "Question 4\n",
        "\n",
        "Given an array arr[] of integers, find out the maximum difference between any two elements such that the larger element appears after the smaller number.\n",
        "\n",
        "Examples :\n",
        "Input : arr = {2, 3, 10, 6, 4, 8, 1}\n",
        "Output : 8\n",
        "Explanation : The maximum difference is between 10 and 2.\n",
        "\n",
        "Input : arr = {7, 9, 5, 6, 3, 2}\n",
        "Output : 2\n",
        "Explanation : The maximum difference is between 9 and 7"
      ],
      "metadata": {
        "id": "3zriQrvJ1Qo-"
      }
    },
    {
      "cell_type": "code",
      "source": [
        "n=int(input())\n",
        "arr=list(map(int,input().split()))\n",
        "\n",
        "m=-99999\n",
        "\n",
        "for i in range(n-1):\n",
        "  for j in range(i+1,n):\n",
        "    m=max(m,arr[j]-arr[i])\n",
        "print(m)"
      ],
      "metadata": {
        "colab": {
          "base_uri": "https://localhost:8080/"
        },
        "id": "Z_t6sPL91Rlt",
        "outputId": "0fe7fc3f-4fd0-4247-d29b-3310b29936cb"
      },
      "execution_count": 9,
      "outputs": [
        {
          "output_type": "stream",
          "name": "stdout",
          "text": [
            "7\n",
            "2 3 10 6 4 8 1\n",
            "8\n"
          ]
        }
      ]
    },
    {
      "cell_type": "markdown",
      "source": [
        "\n",
        "Question 10\n",
        "\n",
        "Encryption is needed to be done in important chats between army officers so that no one else can read it .\n",
        "Encryption of message is done by replacing each letter with the letter at 3\n",
        "positions to the left\n",
        "e.g. ‘a’ is replaced with ‘x. ‘b’ with ‘y’ … ‘d’ with ‘a’ and so on.\n",
        "\n",
        "Given a encrypted input string find the corresponding plaintext and return the plaintext as output string.\n",
        "\n",
        "Note:- All the characters are in the lower case for input and output strings\n",
        "\n",
        "Input Specification\n",
        "input1: the ciphertext\n",
        "\n",
        "Output Specification\n",
        "Return the corresponding plaintext.\n",
        "\n",
        "Example1:\n",
        "input 1: ABCDEFGHIJKLMNOPQRSTUVWXYZ\n",
        "output: XYZABCDEFGHIJKLMNOPQRSTUVW\n",
        "\n",
        "Example2:\n",
        "Input 1: ATTACKATONCE\n",
        "output: EXXEGOEXSRGI\n"
      ],
      "metadata": {
        "id": "EF4Km1fB4C2p"
      }
    },
    {
      "cell_type": "code",
      "source": [
        "def decrypt(ciphertext):\n",
        "    plaintext = \"\"\n",
        "\n",
        "    for char in ciphertext:\n",
        "        # Shift the character 3 positions to the left\n",
        "        if 'A' <= char <= 'Z':  # Check if character is uppercase\n",
        "            new_char = chr(((ord(char) - ord('A') - 3) % 26) + ord('A'))\n",
        "            plaintext += new_char\n",
        "        else:\n",
        "            plaintext += char  # Keep non-alphabet characters unchanged (if any)\n",
        "\n",
        "    return plaintext\n",
        "\n",
        "# Test the function with the examples provided\n",
        "input1 = \"ABCDEFGHIJKLMNOPQRSTUVWXYZ\"\n",
        "print(decrypt(input1))  # Output: XYZABCDEFGHIJKLMNOPQRSTUVW\n",
        "\n",
        "input2 = \"ATTACKATONCE\"\n",
        "print(decrypt(input2))  # Output: EXXEGOEXSRGI\n"
      ],
      "metadata": {
        "id": "vpFjELRG4DrU"
      },
      "execution_count": null,
      "outputs": []
    }
  ]
}