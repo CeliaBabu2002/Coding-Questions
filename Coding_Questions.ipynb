{
  "nbformat": 4,
  "nbformat_minor": 0,
  "metadata": {
    "colab": {
      "provenance": [],
      "authorship_tag": "ABX9TyMpfuTqEfRlGyjGKSxxC7tO",
      "include_colab_link": true
    },
    "kernelspec": {
      "name": "python3",
      "display_name": "Python 3"
    },
    "language_info": {
      "name": "python"
    }
  },
  "cells": [
    {
      "cell_type": "markdown",
      "metadata": {
        "id": "view-in-github",
        "colab_type": "text"
      },
      "source": [
        "<a href=\"https://colab.research.google.com/github/CeliaBabu2002/Coding-Questions/blob/main/Coding_Questions.ipynb\" target=\"_parent\"><img src=\"https://colab.research.google.com/assets/colab-badge.svg\" alt=\"Open In Colab\"/></a>"
      ]
    },
    {
      "cell_type": "markdown",
      "source": [
        "# Write a code to reverse a number"
      ],
      "metadata": {
        "id": "6Z4XtYbVF8x1"
      }
    },
    {
      "cell_type": "code",
      "execution_count": 10,
      "metadata": {
        "colab": {
          "base_uri": "https://localhost:8080/"
        },
        "id": "Wsg4K7grF4dV",
        "outputId": "4927ff79-7f66-4381-c8fc-554b7504d4c7"
      },
      "outputs": [
        {
          "output_type": "stream",
          "name": "stdout",
          "text": [
            "Enter the Number:589\n",
            "985\n"
          ]
        }
      ],
      "source": [
        "def reverse(s):\n",
        "  r=s[::-1]\n",
        "  return r\n",
        "n=input(\"Enter the Number:\")\n",
        "ans=reverse(n)\n",
        "if(ans):\n",
        "  print(ans)"
      ]
    },
    {
      "cell_type": "code",
      "source": [
        "n=int(input(\"enter the number\"))\n",
        "temp=n\n",
        "sum=0\n",
        "while(n!=0):\n",
        "  digit=n%10\n",
        "  sum=sum+digit\n",
        "  n=n//10\n",
        "print(\"the given number is {} and the reverse is {}\".format(temp,sum))\n"
      ],
      "metadata": {
        "colab": {
          "base_uri": "https://localhost:8080/"
        },
        "id": "C1L4P2BoHoQJ",
        "outputId": "2dfcff5c-f21e-4586-8b69-4faa4b7488e9"
      },
      "execution_count": 16,
      "outputs": [
        {
          "output_type": "stream",
          "name": "stdout",
          "text": [
            "enter the number589\n",
            "the given number is 589 and the reverse is 22\n"
          ]
        }
      ]
    },
    {
      "cell_type": "markdown",
      "source": [
        "#Write the code to find the Fibonacci series upto the nth term."
      ],
      "metadata": {
        "id": "U7WCxlnFJHhB"
      }
    },
    {
      "cell_type": "code",
      "source": [
        "n=int(input(\"enter the number:\"))\n",
        "t1=0\n",
        "t2=1\n",
        "print(\"the fibinoacci series:\",t1,t2,end=\" \")\n",
        "for i in range(2,n+1):\n",
        "  t3=t1+t2\n",
        "  print(t3,end=\" \")\n",
        "  t1=t2\n",
        "  t2=t3\n",
        "\n"
      ],
      "metadata": {
        "colab": {
          "base_uri": "https://localhost:8080/"
        },
        "id": "-jOb1UyaJEtk",
        "outputId": "34ba1f29-fb9c-4f73-8dbf-729c2ce38c99"
      },
      "execution_count": 21,
      "outputs": [
        {
          "output_type": "stream",
          "name": "stdout",
          "text": [
            "enter the number:5\n",
            "the fibinoacci series: 0 1 1 2 3 5 "
          ]
        }
      ]
    },
    {
      "cell_type": "markdown",
      "source": [
        "#Write code of Greatest Common Divisor and Least Common Multiple"
      ],
      "metadata": {
        "id": "iPDx0w4SK5rm"
      }
    },
    {
      "cell_type": "code",
      "source": [
        "n=int(input(\"enter the number:\"))\n",
        "m=int(input(\"enter the number:\"))\n",
        "product = m*n\n",
        "while(n>0):\n",
        "  remainder=m%n\n",
        "  m=n\n",
        "  n=remainder\n",
        "gcd=m\n",
        "lcm=product//m\n",
        "print(\"The GCD is {} and LCM is {}\".format(gcd,lcm))"
      ],
      "metadata": {
        "colab": {
          "base_uri": "https://localhost:8080/"
        },
        "id": "MdtjOS5hK8e0",
        "outputId": "10b27e1d-30d5-47d0-81d3-a7b39efff3b3"
      },
      "execution_count": 23,
      "outputs": [
        {
          "output_type": "stream",
          "name": "stdout",
          "text": [
            "enter the number:5\n",
            "enter the number:3\n",
            "The GCD is 1 and LCM is 15\n"
          ]
        }
      ]
    },
    {
      "cell_type": "markdown",
      "source": [
        "# Write code of  Perfect number\n",
        "\n",
        "*   A perfect number is a positive integer whose sum of its proper divisors is equal to one. Examples of perfect numbers: Sum of 1, 2, and 3 equals 6, which is the lowest perfect number. The numbers 28, 496, and 8,128 are also perfect.\n",
        "\n"
      ],
      "metadata": {
        "id": "AgHmU-rbVb63"
      }
    },
    {
      "cell_type": "code",
      "source": [
        "n=int(input(\"Enter the number:\"))\n",
        "sum=0\n",
        "for i in range(1,n):\n",
        "  if(n%i==0):\n",
        "    sum=sum+i\n",
        "if(sum==n):\n",
        "  print(\"The number {} is Perfect Number\".format(n))\n",
        "else:\n",
        "  print(\"The number {} is not Perfect Number\".format(n))\n",
        "\n"
      ],
      "metadata": {
        "colab": {
          "base_uri": "https://localhost:8080/"
        },
        "id": "gH0fvR4NVg31",
        "outputId": "78eaa8f8-6595-43a5-d4cf-277e8fa7e570"
      },
      "execution_count": 26,
      "outputs": [
        {
          "output_type": "stream",
          "name": "stdout",
          "text": [
            "Enter the number:6\n",
            "The number 6 is Perfect Number\n"
          ]
        }
      ]
    },
    {
      "cell_type": "markdown",
      "source": [
        "#Reverse an Array\n",
        "\n",
        "*   Using the reverse() method\n",
        "*   Using the slicing technique\n",
        "*   Using the reversed() function\n",
        "*   Using a loop\n",
        "*   Using the built-in method, list.reverse():\n",
        "\n",
        "\n",
        "\n"
      ],
      "metadata": {
        "id": "1AD-CPHZYr-H"
      }
    },
    {
      "cell_type": "code",
      "source": [
        "n=int(input(\"enter the number of elements:\"))\n",
        "array=[]\n",
        "for i in range(n):\n",
        "  ele=int(input())\n",
        "  array.append(ele)\n",
        "array.reverse()\n",
        "print(array)\n"
      ],
      "metadata": {
        "colab": {
          "base_uri": "https://localhost:8080/"
        },
        "id": "eNC08oVLYrNs",
        "outputId": "82557e18-077d-4ff2-b9d3-a25f2408958b"
      },
      "execution_count": 33,
      "outputs": [
        {
          "output_type": "stream",
          "name": "stdout",
          "text": [
            "enter the number of elements:3\n",
            "2\n",
            "1\n",
            "0\n",
            "[0, 1, 2]\n"
          ]
        }
      ]
    },
    {
      "cell_type": "code",
      "source": [
        "n=int(input(\"enter the number of elements:\"))\n",
        "array=[]\n",
        "for i in range(n):\n",
        "  ele=int(input())\n",
        "  array.append(ele)\n",
        "reverse=array[::-1]\n",
        "print(reverse)"
      ],
      "metadata": {
        "colab": {
          "base_uri": "https://localhost:8080/"
        },
        "id": "TagHUiZfazmi",
        "outputId": "27841a91-c666-4d8b-e9fc-77475ba6531f"
      },
      "execution_count": 35,
      "outputs": [
        {
          "output_type": "stream",
          "name": "stdout",
          "text": [
            "enter the number of elements:2\n",
            "2\n",
            "1\n",
            "[1, 2]\n"
          ]
        }
      ]
    },
    {
      "cell_type": "code",
      "source": [
        "n=int(input(\"enter the number of elements:\"))\n",
        "array=[]\n",
        "for i in range(n):\n",
        "  ele=int(input())\n",
        "  array.append(ele)\n",
        "reverse=list(reversed(array))\n",
        "print(reverse)"
      ],
      "metadata": {
        "colab": {
          "base_uri": "https://localhost:8080/"
        },
        "id": "Cp98vrikbRe5",
        "outputId": "bff79ad8-0428-4dfd-e755-1f5b54accb26"
      },
      "execution_count": 38,
      "outputs": [
        {
          "output_type": "stream",
          "name": "stdout",
          "text": [
            "enter the number of elements:2\n",
            "1\n",
            "2\n",
            "[2, 1]\n"
          ]
        }
      ]
    },
    {
      "cell_type": "code",
      "source": [
        "array = [1, 2, 3, 4, 5]\n",
        "reversed_array = []\n",
        "for i in range(len(array) - 1, -1, -1):\n",
        "    reversed_array.append(array[i])\n",
        "print(reversed_array)"
      ],
      "metadata": {
        "colab": {
          "base_uri": "https://localhost:8080/"
        },
        "id": "6bNJV5HObv_V",
        "outputId": "9ff089df-23fa-45ba-fa54-b662e4c32a97"
      },
      "execution_count": 40,
      "outputs": [
        {
          "output_type": "stream",
          "name": "stdout",
          "text": [
            "[5, 4, 3, 2, 1]\n"
          ]
        }
      ]
    },
    {
      "cell_type": "code",
      "source": [
        "array = [1, 2, 3, 4, 5]\n",
        "array.reverse()\n",
        "print(array)"
      ],
      "metadata": {
        "colab": {
          "base_uri": "https://localhost:8080/"
        },
        "id": "xKSoQfYCcZ9S",
        "outputId": "fe595b93-88d9-4d8e-a756-28807e8475c7"
      },
      "execution_count": 41,
      "outputs": [
        {
          "output_type": "stream",
          "name": "stdout",
          "text": [
            "[5, 4, 3, 2, 1]\n"
          ]
        }
      ]
    }
  ]
}