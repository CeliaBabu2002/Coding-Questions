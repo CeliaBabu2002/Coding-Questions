{
  "nbformat": 4,
  "nbformat_minor": 0,
  "metadata": {
    "colab": {
      "provenance": [],
      "toc_visible": true,
      "authorship_tag": "ABX9TyPF+jlmgzDLkKxah/z2sLZa",
      "include_colab_link": true
    },
    "kernelspec": {
      "name": "python3",
      "display_name": "Python 3"
    },
    "language_info": {
      "name": "python"
    }
  },
  "cells": [
    {
      "cell_type": "markdown",
      "metadata": {
        "id": "view-in-github",
        "colab_type": "text"
      },
      "source": [
        "<a href=\"https://colab.research.google.com/github/CeliaBabu2002/Coding-Questions/blob/main/theory.ipynb\" target=\"_parent\"><img src=\"https://colab.research.google.com/assets/colab-badge.svg\" alt=\"Open In Colab\"/></a>"
      ]
    },
    {
      "cell_type": "code",
      "execution_count": null,
      "metadata": {
        "id": "1MEMxlJjP-B5"
      },
      "outputs": [],
      "source": [
        "3\n",
        "+#find pyramid number sum"
      ]
    },
    {
      "cell_type": "markdown",
      "source": [],
      "metadata": {
        "id": "r1_7YAIEn9Ew"
      }
    },
    {
      "cell_type": "markdown",
      "source": [
        "https://www.turing.com/interview-questions/cloud\n",
        "\n",
        "\n",
        "\n",
        "\n",
        "https://prepinsta.com/interview-preparation/technical-interview-questions/cloud-computing/\n",
        "\n",
        "\n",
        "\n",
        "https://www.mygreatlearning.com/blog/cloud-computing-interview-questions/\n"
      ],
      "metadata": {
        "id": "oWoL9higgH3i"
      }
    },
    {
      "cell_type": "markdown",
      "source": [
        "cloud questions\n",
        "Data warehousing Basics, ETL concepts, Cloud fundamentals Unix and shell scripting"
      ],
      "metadata": {
        "id": "YBmRydk2dtTU"
      }
    },
    {
      "cell_type": "code",
      "source": [],
      "metadata": {
        "id": "pw0wSuxJunJR"
      },
      "execution_count": null,
      "outputs": []
    },
    {
      "cell_type": "code",
      "source": [
        "#1\n",
        "n=int(input())\n",
        "for i in range(0,n+1):\n",
        "  for j in range(0,i+1):\n",
        "    print(j,end=\" \")\n",
        "  print()"
      ],
      "metadata": {
        "id": "sfwYVGkZiehB"
      },
      "execution_count": null,
      "outputs": []
    },
    {
      "cell_type": "code",
      "source": [
        "#2\n",
        "n=int(input())\n",
        "for i in range(n,0,-1):\n",
        "  for j in range(i,0,-1):\n",
        "    print(j,end=\" \")\n",
        "  print()\n"
      ],
      "metadata": {
        "id": "455QWM7CkAMg"
      },
      "execution_count": null,
      "outputs": []
    },
    {
      "cell_type": "code",
      "source": [
        "#4\n",
        "n=int(input())\n",
        "sum=0\n",
        "for i in range(1,n+1):\n",
        "  for j in range(1,i+1):\n",
        "    sum=sum+j\n",
        "print(sum)"
      ],
      "metadata": {
        "id": "Aoc15UbNn8c7"
      },
      "execution_count": null,
      "outputs": []
    },
    {
      "cell_type": "code",
      "source": [
        "#5\n",
        "n=int(input())\n",
        "sum=0\n",
        "for i in range(1,n+1):\n",
        "  sum=sum+i**2\n",
        "print(sum)"
      ],
      "metadata": {
        "id": "AQr1TF0_qYOB"
      },
      "execution_count": null,
      "outputs": []
    },
    {
      "cell_type": "code",
      "source": [
        "#6\n",
        "#find pyramid number sum\n",
        "n=int(input())\n",
        "sum=0\n",
        "cnt=0\n",
        "i=1\n",
        "while(sum<n):\n",
        "  sum=sum+i*i\n",
        "  cnt+=1\n",
        "  i=i+1\n",
        "if(sum==n):\n",
        "  print(cnt)\n",
        "else:\n",
        "  print(\"invalid\")\n"
      ],
      "metadata": {
        "id": "DUXvA4_lrhE3"
      },
      "execution_count": null,
      "outputs": []
    },
    {
      "cell_type": "code",
      "source": [
        "#7\n",
        "#Palindrome\n",
        "n=int(input())\n",
        "temp=n\n",
        "rev=0\n",
        "while(n>0):\n",
        "  digit=n%10\n",
        "  rev=rev*10+digit\n",
        "  n=n//10\n",
        "if(rev==temp):\n",
        "  print('p')\n",
        "else:\n",
        "  print('np')\n"
      ],
      "metadata": {
        "id": "pWonRAFd9yLP"
      },
      "execution_count": null,
      "outputs": []
    },
    {
      "cell_type": "markdown",
      "source": [
        "#Sum of Digits"
      ],
      "metadata": {
        "id": "fYdxOqHL_Jv_"
      }
    },
    {
      "cell_type": "code",
      "source": [
        "n=int(input())\n",
        "sum=0\n",
        "while(n!=0):\n",
        "  digit=n%10\n",
        "  sum=sum+digit\n",
        "  n//10\n",
        "print(sum)"
      ],
      "metadata": {
        "id": "5u129QYZ9yf2",
        "colab": {
          "base_uri": "https://localhost:8080/"
        },
        "outputId": "28f0729c-ba6c-472e-9dc2-d077ab56069e"
      },
      "execution_count": null,
      "outputs": [
        {
          "name": "stdout",
          "output_type": "stream",
          "text": [
            "121\n"
          ]
        }
      ]
    },
    {
      "cell_type": "code",
      "source": [
        "\"h\""
      ],
      "metadata": {
        "id": "FbuRO9SX9yiw"
      },
      "execution_count": null,
      "outputs": []
    },
    {
      "cell_type": "markdown",
      "source": [
        "#Dictionary & Set\n",
        "[Apna College](https://www.youtube.com/watch?v=078tYSD7K8E)"
      ],
      "metadata": {
        "id": "kNcekuJJoFh_"
      }
    },
    {
      "cell_type": "code",
      "source": [
        "dict={\"name\":\"celia\",\"address\":{\"city\":\"thrissur\",\"state\":\"kerala\"}}\n",
        "print(dict[\"address\"][\"city\"])"
      ],
      "metadata": {
        "id": "WmWbK30o9yl2",
        "colab": {
          "base_uri": "https://localhost:8080/"
        },
        "outputId": "fc035c5a-2f8b-4058-805b-86dc9de47387"
      },
      "execution_count": null,
      "outputs": [
        {
          "output_type": "stream",
          "name": "stdout",
          "text": [
            "thrissur\n"
          ]
        }
      ]
    },
    {
      "cell_type": "code",
      "source": [
        "# to print all keys\n",
        "print(list(dict[\"address\"].keys()))"
      ],
      "metadata": {
        "colab": {
          "base_uri": "https://localhost:8080/"
        },
        "id": "2zgsWZdxoUff",
        "outputId": "68a28784-9eba-4062-f540-851f8bc3ff8e"
      },
      "execution_count": null,
      "outputs": [
        {
          "output_type": "stream",
          "name": "stdout",
          "text": [
            "['city', 'state']\n"
          ]
        }
      ]
    },
    {
      "cell_type": "code",
      "source": [
        "# to print all values\n",
        "print(list(dict[\"address\"].values()))"
      ],
      "metadata": {
        "id": "sxReOsdR9yoS",
        "colab": {
          "base_uri": "https://localhost:8080/"
        },
        "outputId": "83544716-d736-40f7-ab27-474d58fea95f"
      },
      "execution_count": null,
      "outputs": [
        {
          "output_type": "stream",
          "name": "stdout",
          "text": [
            "['thrissur', 'kerala']\n"
          ]
        }
      ]
    },
    {
      "cell_type": "code",
      "source": [
        "# to return key value pair as tuples\n",
        "# here we can indiviualy we can retuen by tuple()\n",
        "print(list(dict.items()))"
      ],
      "metadata": {
        "id": "TQxrlzPT9yrE",
        "colab": {
          "base_uri": "https://localhost:8080/"
        },
        "outputId": "ca320853-8331-480b-e0a1-a5982843c9bc"
      },
      "execution_count": null,
      "outputs": [
        {
          "output_type": "stream",
          "name": "stdout",
          "text": [
            "[('name', 'celia'), ('address', {'city': 'thrissur', 'state': 'kerala'})]\n"
          ]
        }
      ]
    },
    {
      "cell_type": "code",
      "source": [
        "#to return value according to keyeven if there is no key existed it does'nt create error instead return none another rest of te code works\n",
        "#\n",
        "print(dict.get('name'))"
      ],
      "metadata": {
        "id": "9PcwmtgT9yty",
        "colab": {
          "base_uri": "https://localhost:8080/"
        },
        "outputId": "6f855494-748a-4c54-9b29-58ca6b75962e"
      },
      "execution_count": null,
      "outputs": [
        {
          "output_type": "stream",
          "name": "stdout",
          "text": [
            "None\n"
          ]
        }
      ]
    },
    {
      "cell_type": "code",
      "source": [
        "# to update the dictionary\n",
        "new_dict=dict.update({\"age\":89dictionary using coding questions\n",
        "                      })\n",
        "print(dict)"
      ],
      "metadata": {
        "id": "ruUdWqxP9ywU",
        "colab": {
          "base_uri": "https://localhost:8080/"
        },
        "outputId": "a6adf972-af52-41af-c30b-ac7c63394791"
      },
      "execution_count": null,
      "outputs": [
        {
          "output_type": "stream",
          "name": "stdout",
          "text": [
            "{'name': 'celia', 'address': {'city': 'thrissur', 'state': 'kerala'}, 'age': 89}\n"
          ]
        }
      ]
    },
    {
      "cell_type": "markdown",
      "source": [
        "#Exercise\n",
        "Count Word Frequency\n",
        "\n",
        "    Given a string, count the frequency of each word using a dictionary.\n",
        "    Input: \"apple banana apple orange banana apple\"\n",
        "    Output: {'apple': 3, 'banana': 2, 'orange': 1}"
      ],
      "metadata": {
        "id": "Ql9l_G0Ms-3E"
      }
    },
    {
      "cell_type": "code",
      "source": [
        "n=\"apple banana apple orange banana apple\"\n",
        "dict={}\n",
        "for word in n.split(\" \"):\n",
        "  dict[word]=dict.get(word,0)+1\n",
        "print(dict)\n",
        "\n",
        "\n",
        "\n"
      ],
      "metadata": {
        "id": "OuybXQEv9yzJ",
        "colab": {
          "base_uri": "https://localhost:8080/"
        },
        "outputId": "d59a8cf4-b98f-46ad-81b1-44f31ab602b2"
      },
      "execution_count": null,
      "outputs": [
        {
          "output_type": "stream",
          "name": "stdout",
          "text": [
            "{'apple': 3, 'banana': 2, 'orange': 1}\n"
          ]
        }
      ]
    },
    {
      "cell_type": "markdown",
      "source": [
        "Count Character Frequency\n",
        "\n",
        "    Given a string, count the frequency of each character using a dictionary.\n",
        "    Input: \"hello\"\n",
        "    Output: {'h': 1, 'e': 1, 'l': 2, 'o': 1}"
      ],
      "metadata": {
        "id": "P2F7O1yGvl9H"
      }
    },
    {
      "cell_type": "code",
      "source": [
        "n=\"hello\"\n",
        "dict={}\n",
        "for ch in n:\n",
        "  dict[ch]=dict.get(ch,0)+1\n",
        "print(dict)"
      ],
      "metadata": {
        "id": "WYMuK1F49y2e",
        "colab": {
          "base_uri": "https://localhost:8080/"
        },
        "outputId": "909d55e5-ddf7-46db-848d-ed6a01bf2939"
      },
      "execution_count": null,
      "outputs": [
        {
          "output_type": "stream",
          "name": "stdout",
          "text": [
            "{'h': 1, 'e': 1, 'l': 2, 'o': 1}\n"
          ]
        }
      ]
    },
    {
      "cell_type": "markdown",
      "source": [
        "Merge Two Dictionaries\n",
        "\n",
        "    Given two dictionaries, merge them. If a key exists in both, sum the values.\n",
        "    Input: d1 = {'a': 10, 'b': 20}, d2 = {'b': 30, 'c': 40}\n",
        "    Output: {'a': 10, 'b': 50, 'c': 40}"
      ],
      "metadata": {
        "id": "yMWLU08Twsau"
      }
    },
    {
      "cell_type": "code",
      "source": [
        "d1 = {'a': 10, 'b': 20}\n",
        "d2 = {'b': 30, 'c': 40}\n",
        "merge=d1.copy()\n",
        "for key,value in d2.items():\n",
        "  merge[key]=merge.get(key,0)+value\n",
        "print(merge)\n"
      ],
      "metadata": {
        "colab": {
          "base_uri": "https://localhost:8080/"
        },
        "id": "nHEX3up0wtd2",
        "outputId": "d8b4a9c0-6487-4c50-9c3b-96cc6bbbb273"
      },
      "execution_count": null,
      "outputs": [
        {
          "output_type": "stream",
          "name": "stdout",
          "text": [
            "{'a': 10, 'b': 50, 'c': 40}\n"
          ]
        }
      ]
    },
    {
      "cell_type": "code",
      "source": [
        "n={\"java\",\"python\",\"java\",\"python\",\"dsa\",\"cn\"}\n",
        "# for i in n.split(\",\"):\n",
        "#   print(f\"\\\"{i}\\\"\",end=\",\")\n",
        "# classr={}\n",
        "# for i in n.split(\",\"):\n",
        "#   classr[i]=classr.get(i,0)+1\n",
        "# classes=list(classr.keys())\n",
        "# print(len(classes))\n",
        "new_c=set(n)\n",
        "print(len(new_c))\n",
        "\n",
        "\n"
      ],
      "metadata": {
        "colab": {
          "base_uri": "https://localhost:8080/"
        },
        "id": "5yOB2Smr4rb9",
        "outputId": "6ffe804e-3c90-4998-a75d-25d4912e8dcb"
      },
      "execution_count": null,
      "outputs": [
        {
          "output_type": "stream",
          "name": "stdout",
          "text": [
            "4\n"
          ]
        }
      ]
    },
    {
      "cell_type": "code",
      "source": [
        "dict_1={}\n",
        "n=int(input())\n",
        "dict_1.update({\"phy\":n})\n",
        "c=int(input())\n",
        "dict_1.update({\"chem\":c})\n",
        "print(dict_1)"
      ],
      "metadata": {
        "colab": {
          "base_uri": "https://localhost:8080/"
        },
        "id": "Xhdkz3Dj7Zlq",
        "outputId": "57c674ea-ccef-4c9e-9a51-24956b99769b"
      },
      "execution_count": null,
      "outputs": [
        {
          "output_type": "stream",
          "name": "stdout",
          "text": [
            "45\n",
            "96\n",
            "{'phy': 45, 'chem': 96}\n"
          ]
        }
      ]
    },
    {
      "cell_type": "code",
      "source": [
        "dict_2={}\n",
        "list_1=[]\n",
        "n=int(input())\n",
        "for i in range(n):\n",
        "  new=int(input())\n",
        "  list_1.append(new)\n",
        "dict_2['phy']=list_1\n",
        "print(dict_2)"
      ],
      "metadata": {
        "colab": {
          "base_uri": "https://localhost:8080/"
        },
        "id": "WNoXu-8W8m2v",
        "outputId": "9e886027-2597-427c-8a9e-86a4d29c1df1"
      },
      "execution_count": null,
      "outputs": [
        {
          "output_type": "stream",
          "name": "stdout",
          "text": [
            "2\n",
            "4\n",
            "5\n",
            "{'phy': [4, 5]}\n"
          ]
        }
      ]
    },
    {
      "cell_type": "code",
      "source": [
        "s=set({9,9.0})\n",
        "print(s)"
      ],
      "metadata": {
        "colab": {
          "base_uri": "https://localhost:8080/"
        },
        "id": "DYPntvqL-IyZ",
        "outputId": "016c8315-76c6-4c06-eb63-cc15a242e6fd"
      },
      "execution_count": null,
      "outputs": [
        {
          "output_type": "stream",
          "name": "stdout",
          "text": [
            "{9}\n"
          ]
        }
      ]
    },
    {
      "cell_type": "code",
      "source": [
        "s={(\"int\",9),(\"float\",9.0)}\n",
        "print(s)"
      ],
      "metadata": {
        "colab": {
          "base_uri": "https://localhost:8080/"
        },
        "id": "ob7ItxBh-7-I",
        "outputId": "8f3c6182-7f28-4537-89b7-caf3a106e6fd"
      },
      "execution_count": null,
      "outputs": [
        {
          "output_type": "stream",
          "name": "stdout",
          "text": [
            "{('int', 9), ('float', 9.0)}\n"
          ]
        }
      ]
    },
    {
      "cell_type": "markdown",
      "source": [
        "#List"
      ],
      "metadata": {
        "id": "5Wn0vKN6t_3c"
      }
    },
    {
      "cell_type": "code",
      "source": [
        "l=[\"celia\",\"savio\",6,9] # a list can store any type of data within a single list ,but in array it can store only one type of data with one array"
      ],
      "metadata": {
        "id": "GkC2CZfHuBgT"
      },
      "execution_count": null,
      "outputs": []
    },
    {
      "cell_type": "code",
      "source": [
        "print(l)"
      ],
      "metadata": {
        "colab": {
          "base_uri": "https://localhost:8080/"
        },
        "id": "OPm1CxjIuU3O",
        "outputId": "3a7ef135-5256-4b18-db86-0e17b0d2495d"
      },
      "execution_count": null,
      "outputs": [
        {
          "output_type": "stream",
          "name": "stdout",
          "text": [
            "['celia', 'savio', 6, 9]\n"
          ]
        }
      ]
    },
    {
      "cell_type": "code",
      "source": [
        "#list vs string\n",
        "#string is immutable whereas list is mutable in python\n",
        "s=\"celia\"\n",
        "print(s[0])\n",
        "# l[0]=\"d\"\n",
        "l=[\"celia\",\"savio\",6,9]\n",
        "l[1]=\"babu\"\n",
        "print(l)\n"
      ],
      "metadata": {
        "colab": {
          "base_uri": "https://localhost:8080/"
        },
        "id": "2myH86OGuU52",
        "outputId": "7bd40360-c691-47a5-b880-ebdea56cfc3d"
      },
      "execution_count": null,
      "outputs": [
        {
          "output_type": "stream",
          "name": "stdout",
          "text": [
            "c\n",
            "['celia', 'babu', 6, 9]\n"
          ]
        }
      ]
    },
    {
      "cell_type": "code",
      "source": [
        "# list slicing\n",
        "print(l[:2])\n",
        "print(l[:4])\n",
        "print(l[3])\n",
        "print(l[1:])\n",
        "print(l[1])\n",
        "print(l[:-1])\n",
        "print(l[-1])\n",
        "print(l[-4:])\n",
        "print(l[-4])"
      ],
      "metadata": {
        "colab": {
          "base_uri": "https://localhost:8080/"
        },
        "id": "NbTrB7Y5uU8u",
        "outputId": "ac96c2cd-abbe-48a4-ba75-9bdba275b99c"
      },
      "execution_count": null,
      "outputs": [
        {
          "output_type": "stream",
          "name": "stdout",
          "text": [
            "['celia', 'babu']\n",
            "['celia', 'babu', 6, 9]\n",
            "9\n",
            "['babu', 6, 9]\n",
            "babu\n",
            "['celia', 'babu', 6]\n",
            "9\n",
            "['celia', 'babu', 6, 9]\n",
            "celia\n"
          ]
        }
      ]
    },
    {
      "cell_type": "code",
      "source": [
        "#List Methods\n",
        "l.append(4)\n",
        "print(l)"
      ],
      "metadata": {
        "id": "4juoxMdMuU_b",
        "colab": {
          "base_uri": "https://localhost:8080/"
        },
        "outputId": "9d289274-e627-49f3-a65d-5878b73a9f2b"
      },
      "execution_count": null,
      "outputs": [
        {
          "output_type": "stream",
          "name": "stdout",
          "text": [
            "['celia', 'babu', 6, 9, 4]\n"
          ]
        }
      ]
    },
    {
      "cell_type": "code",
      "source": [
        "l=[76,35,56,232,0]\n",
        "l.sort()\n",
        "print(l)"
      ],
      "metadata": {
        "id": "DpBTIX8WuVC9",
        "colab": {
          "base_uri": "https://localhost:8080/"
        },
        "outputId": "9f74388c-5b9a-439f-fa54-3c1cb0af9ff6"
      },
      "execution_count": null,
      "outputs": [
        {
          "output_type": "stream",
          "name": "stdout",
          "text": [
            "[0, 35, 56, 76, 232]\n"
          ]
        }
      ]
    },
    {
      "cell_type": "code",
      "source": [
        "# l.sort(reverse=True)\n",
        "# print(l)\n",
        "# l.reverse()\n",
        "# print(l)\n",
        "l.insert(2,85)\n",
        "print(l)\n",
        "l[2]=56\n",
        "print(l)"
      ],
      "metadata": {
        "id": "uQXKvAzJxdsU",
        "colab": {
          "base_uri": "https://localhost:8080/"
        },
        "outputId": "96aef6bf-ce79-4ad7-dcac-9e1b4424107b"
      },
      "execution_count": null,
      "outputs": [
        {
          "output_type": "stream",
          "name": "stdout",
          "text": [
            "[0, 35, 85, 85, 56, 76, 85, 85, 232]\n",
            "[0, 35, 56, 85, 56, 76, 85, 85, 232]\n"
          ]
        }
      ]
    },
    {
      "cell_type": "code",
      "source": [
        "l.remove(85) # first occurence\n",
        "print(l)\n",
        "l.pop(1)\n",
        "print(l)"
      ],
      "metadata": {
        "colab": {
          "base_uri": "https://localhost:8080/"
        },
        "id": "eGvN46TKx_Ov",
        "outputId": "960397b7-6514-4cce-ccb2-09cf2cc7efda"
      },
      "execution_count": null,
      "outputs": [
        {
          "output_type": "stream",
          "name": "stdout",
          "text": [
            "[0, 35, 56, 56, 76, 85, 232]\n",
            "[0, 56, 56, 76, 85, 232]\n"
          ]
        }
      ]
    },
    {
      "cell_type": "markdown",
      "source": [
        "#tuples"
      ],
      "metadata": {
        "id": "AXBqhZIj-o6U"
      }
    },
    {
      "cell_type": "code",
      "source": [
        "tup=(1,2,3,4)\n",
        "print(tup)"
      ],
      "metadata": {
        "colab": {
          "base_uri": "https://localhost:8080/"
        },
        "id": "Sw1EGF3k-m6h",
        "outputId": "3a2c4807-ac38-4aea-bbf6-380c2a05657b"
      },
      "execution_count": null,
      "outputs": [
        {
          "output_type": "stream",
          "name": "stdout",
          "text": [
            "(1, 2, 3, 4)\n"
          ]
        }
      ]
    },
    {
      "cell_type": "code",
      "source": [
        "tup[0]"
      ],
      "metadata": {
        "colab": {
          "base_uri": "https://localhost:8080/"
        },
        "id": "oD9VVDcF-m85",
        "outputId": "f53f21e0-7482-4581-c06b-10cfdc8d3442"
      },
      "execution_count": null,
      "outputs": [
        {
          "output_type": "execute_result",
          "data": {
            "text/plain": [
              "1"
            ]
          },
          "metadata": {},
          "execution_count": 32
        }
      ]
    },
    {
      "cell_type": "code",
      "source": [
        "tup[0]=1"
      ],
      "metadata": {
        "colab": {
          "base_uri": "https://localhost:8080/",
          "height": 141
        },
        "id": "tsCd0EZ9-m_g",
        "outputId": "8202457f-34cc-4207-f15a-03137cfc1e3c"
      },
      "execution_count": null,
      "outputs": [
        {
          "output_type": "error",
          "ename": "TypeError",
          "evalue": "'tuple' object does not support item assignment",
          "traceback": [
            "\u001b[0;31m---------------------------------------------------------------------------\u001b[0m",
            "\u001b[0;31mTypeError\u001b[0m                                 Traceback (most recent call last)",
            "\u001b[0;32m<ipython-input-33-33cbc7c76e38>\u001b[0m in \u001b[0;36m<cell line: 0>\u001b[0;34m()\u001b[0m\n\u001b[0;32m----> 1\u001b[0;31m \u001b[0mtup\u001b[0m\u001b[0;34m[\u001b[0m\u001b[0;36m0\u001b[0m\u001b[0;34m]\u001b[0m\u001b[0;34m=\u001b[0m\u001b[0;36m1\u001b[0m\u001b[0;34m\u001b[0m\u001b[0;34m\u001b[0m\u001b[0m\n\u001b[0m",
            "\u001b[0;31mTypeError\u001b[0m: 'tuple' object does not support item assignment"
          ]
        }
      ]
    },
    {
      "cell_type": "code",
      "source": [
        "#inorder to add asingle element\n",
        "tup=(1,)\n",
        "print(type(tup))\n",
        "print(tup)"
      ],
      "metadata": {
        "colab": {
          "base_uri": "https://localhost:8080/"
        },
        "id": "KstaEoXc-nCS",
        "outputId": "5f2eed03-21c7-4c48-c832-e886e68aacdc"
      },
      "execution_count": null,
      "outputs": [
        {
          "output_type": "stream",
          "name": "stdout",
          "text": [
            "<class 'tuple'>\n",
            "(1, 2, 3)\n"
          ]
        }
      ]
    },
    {
      "cell_type": "code",
      "source": [
        "tup.count(2)"
      ],
      "metadata": {
        "colab": {
          "base_uri": "https://localhost:8080/"
        },
        "id": "DhO3fP9f-nE6",
        "outputId": "6ec49d1f-b605-428f-b078-1d26dfd757c1"
      },
      "execution_count": null,
      "outputs": [
        {
          "output_type": "execute_result",
          "data": {
            "text/plain": [
              "1"
            ]
          },
          "metadata": {},
          "execution_count": 38
        }
      ]
    },
    {
      "cell_type": "code",
      "source": [
        "tup.index(1)"
      ],
      "metadata": {
        "colab": {
          "base_uri": "https://localhost:8080/"
        },
        "id": "ReyV5hnM-nHZ",
        "outputId": "9356052f-45aa-4df4-af1d-b7d59dc12167"
      },
      "execution_count": null,
      "outputs": [
        {
          "output_type": "execute_result",
          "data": {
            "text/plain": [
              "0"
            ]
          },
          "metadata": {},
          "execution_count": 39
        }
      ]
    },
    {
      "cell_type": "markdown",
      "source": [
        "[Apna College](https://www.youtube.com/watch?v=qVyvmzFxF_o)"
      ],
      "metadata": {
        "id": "KxPQ-Mud_xJk"
      }
    },
    {
      "cell_type": "code",
      "source": [
        "#Practice question\n",
        "n=int(input(\"enter the subjects no\"))\n",
        "l=[]\n",
        "for i in range(n):\n",
        "  s=(int(input()))\n",
        "  l.append(s)\n",
        "print(l)\n"
      ],
      "metadata": {
        "colab": {
          "base_uri": "https://localhost:8080/"
        },
        "id": "y1vM61zN-nKb",
        "outputId": "63b66478-3f2e-4bd4-f027-327838417884"
      },
      "execution_count": null,
      "outputs": [
        {
          "output_type": "stream",
          "name": "stdout",
          "text": [
            "enter the subjects no3\n",
            "45\n",
            "56\n",
            "87\n",
            "[45, 56, 87]\n"
          ]
        }
      ]
    },
    {
      "cell_type": "code",
      "source": [
        "def palindrome(n):\n",
        "  return n==n[::-1]\n",
        "n=int(input())\n",
        "l=[]\n",
        "for i in range(n):\n",
        "  s=input()\n",
        "  l.append(s)\n",
        "ans=palindrome(l)\n",
        "\n",
        "if ans:\n",
        "  print('p')\n",
        "else:\n",
        "  print('np')\n"
      ],
      "metadata": {
        "colab": {
          "base_uri": "https://localhost:8080/"
        },
        "id": "AXLyGxwr-nNA",
        "outputId": "27b585fa-b3d4-45f1-c70b-7145ed081927"
      },
      "execution_count": null,
      "outputs": [
        {
          "output_type": "stream",
          "name": "stdout",
          "text": [
            "3\n",
            "celia\n",
            "savio\n",
            "celia\n",
            "p\n"
          ]
        }
      ]
    },
    {
      "cell_type": "code",
      "source": [
        "l1=[1,2,1]\n",
        "c=[]\n",
        "c=l1.copy()\n",
        "c.reverse()\n",
        "print(c)\n",
        "if c==l1:\n",
        "  print('p')\n",
        "else:\n",
        "  print('np')"
      ],
      "metadata": {
        "colab": {
          "base_uri": "https://localhost:8080/"
        },
        "id": "OLnB0C8j-nPd",
        "outputId": "c5c179f5-4423-49f9-df63-37d112c79886"
      },
      "execution_count": null,
      "outputs": [
        {
          "output_type": "stream",
          "name": "stdout",
          "text": [
            "[1, 2, 1]\n",
            "p\n"
          ]
        }
      ]
    },
    {
      "cell_type": "code",
      "source": [
        "l1=[1,2,3,1,2,3]\n",
        "tup=tuple(l1)\n",
        "c=tup.count(1)\n",
        "print(c)"
      ],
      "metadata": {
        "colab": {
          "base_uri": "https://localhost:8080/"
        },
        "id": "FHYI1LW1-nS_",
        "outputId": "29949e43-4649-4f0b-90be-5f3a9e0bf913"
      },
      "execution_count": null,
      "outputs": [
        {
          "output_type": "stream",
          "name": "stdout",
          "text": [
            "2\n"
          ]
        }
      ]
    },
    {
      "cell_type": "markdown",
      "source": [
        "#OOP in Python\n",
        "\n"
      ],
      "metadata": {
        "id": "hFK_4voqnInf"
      }
    },
    {
      "cell_type": "code",
      "source": [
        "# class blueprint of object //object -intances of c;ass\n",
        "class student:\n",
        "  name=\"celia\"\n",
        "o1=student()\n",
        "print(o1)"
      ],
      "metadata": {
        "colab": {
          "base_uri": "https://localhost:8080/"
        },
        "id": "9kNa_BShnHOg",
        "outputId": "479428d2-000a-4d27-93e0-424797b7da13"
      },
      "execution_count": null,
      "outputs": [
        {
          "output_type": "stream",
          "name": "stdout",
          "text": [
            "<__main__.student object at 0x7f7ac431ba10>\n"
          ]
        }
      ]
    },
    {
      "cell_type": "code",
      "source": [
        "class student:\n",
        "  def __init__(self,fullname,Age):\n",
        "    self.name=fullname\n",
        "    self.age=Age\n",
        "o1=student(\"celia\",23)\n",
        "print(o1.age)\n",
        "print(o1.name)\n",
        "o2=student(\"babu\",59)\n",
        "print(o2.name)\n",
        "# print(o1.nam)"
      ],
      "metadata": {
        "colab": {
          "base_uri": "https://localhost:8080/"
        },
        "id": "sUuZjRZXnHRP",
        "outputId": "8c9e92dd-ecb6-46eb-a54e-6537fb76d0fb"
      },
      "execution_count": null,
      "outputs": [
        {
          "output_type": "stream",
          "name": "stdout",
          "text": [
            "23\n",
            "celia\n",
            "babu\n"
          ]
        }
      ]
    },
    {
      "cell_type": "markdown",
      "source": [],
      "metadata": {
        "id": "glxhJkPtACu5"
      }
    },
    {
      "cell_type": "markdown",
      "source": [
        "#attribute"
      ],
      "metadata": {
        "id": "Ijl83i0dACyp"
      }
    },
    {
      "cell_type": "code",
      "source": [
        "#two types of attribute ---class attribute --object attribute\n",
        "#attribute can be any variable or data\n",
        "class student1:\n",
        "  college_name=\"LF\"  #class attribute\n",
        "  name=\"other\"\n",
        "  def __init__(self,name):\n",
        "    self.name=name #object attribute\n",
        "s1=student1(\"karan\")\n",
        "print(s1.college_name)\n",
        "print(student1.college_name)\n",
        "print(s1.name)   #object attr > class attr more priority\n",
        "print(student1.name)"
      ],
      "metadata": {
        "colab": {
          "base_uri": "https://localhost:8080/"
        },
        "id": "vGsCHmNInHTp",
        "outputId": "7091d94e-9879-423c-d3d8-855e46048393"
      },
      "execution_count": null,
      "outputs": [
        {
          "output_type": "stream",
          "name": "stdout",
          "text": [
            "LF\n",
            "LF\n",
            "karan\n",
            "other\n"
          ]
        }
      ]
    },
    {
      "cell_type": "markdown",
      "source": [
        "#Methods"
      ],
      "metadata": {
        "id": "iO0MF7QvDAlf"
      }
    },
    {
      "cell_type": "code",
      "source": [
        "class employee:\n",
        "  company=\"JCT\"\n",
        "  def __init__(self,name,age):\n",
        "    self.name=name\n",
        "    self.age=age\n",
        "  def hello(self):\n",
        "    print(\"Hello,\",self.name)\n",
        "  def get_age(self):\n",
        "    return(self.age)\n",
        "\n",
        "e1=employee(\"Babu\",89)\n",
        "e1.hello()\n",
        "e1.get_age()"
      ],
      "metadata": {
        "colab": {
          "base_uri": "https://localhost:8080/"
        },
        "id": "egpC2OEGnHWA",
        "outputId": "323dccd4-fe99-441d-a84c-1fd652627962"
      },
      "execution_count": null,
      "outputs": [
        {
          "output_type": "stream",
          "name": "stdout",
          "text": [
            "Hello, Babu\n"
          ]
        },
        {
          "output_type": "execute_result",
          "data": {
            "text/plain": [
              "89"
            ]
          },
          "metadata": {},
          "execution_count": 25
        }
      ]
    },
    {
      "cell_type": "code",
      "source": [
        "# Practice\n",
        "class student:\n",
        "  def __init__(self,name,mark):\n",
        "    self.name=name\n",
        "    self.mark=mark\n",
        "  def avg(self):\n",
        "    sum=0\n",
        "    count=0\n",
        "    for value in self.mark:\n",
        "      sum=sum+value\n",
        "      count+=1\n",
        "    avg=sum//count\n",
        "    print(\"avg\",avg)\n",
        "\n",
        "s1=student(\"celia\",[89,78,23])\n",
        "s1.avg()"
      ],
      "metadata": {
        "colab": {
          "base_uri": "https://localhost:8080/"
        },
        "id": "CDzzTRIsnHY0",
        "outputId": "a7c39808-a1ec-4a39-dd9d-5d03ba264d43"
      },
      "execution_count": null,
      "outputs": [
        {
          "output_type": "stream",
          "name": "stdout",
          "text": [
            "avg 63\n"
          ]
        }
      ]
    },
    {
      "cell_type": "markdown",
      "source": [
        "#Abstraction\n",
        "hiding the implementation details of class ,showing only the essiential feature to user"
      ],
      "metadata": {
        "id": "hUwuREISKJPi"
      }
    },
    {
      "cell_type": "code",
      "source": [
        "class car:\n",
        "  def __init__(self):\n",
        "    self.acc=False\n",
        "    self.Brk=False\n",
        "    self.clutch=False\n",
        "  def start(self):\n",
        "    self.acc=True   # abstraction\n",
        "    self.Brk=True\n",
        "    self.clutch=True\n",
        "    print(\"car started...\")\n",
        "c1=car()\n",
        "c1.start()"
      ],
      "metadata": {
        "colab": {
          "base_uri": "https://localhost:8080/"
        },
        "id": "vBZEUMo0nHba",
        "outputId": "d0be21e2-425b-46c2-d9cd-e3b7fc834013"
      },
      "execution_count": null,
      "outputs": [
        {
          "output_type": "stream",
          "name": "stdout",
          "text": [
            "car started...\n"
          ]
        }
      ]
    },
    {
      "cell_type": "markdown",
      "source": [
        "#Encapsulation\n",
        "wrapping up data and function into a single unit\n",
        "\n",
        "\n",
        "\n",
        "eg whatever we have done in above example\n",
        "\n",
        "\n",
        "\n"
      ],
      "metadata": {
        "id": "SC22zglHLF-_"
      }
    },
    {
      "cell_type": "code",
      "source": [
        "class account:\n",
        "  def __init__(self,acc_no,bal):\n",
        "    self.acc_no=acc_no\n",
        "    self.bal=bal\n",
        "\n",
        "  def credit(self,m):\n",
        "    self.bal+=m\n",
        "    print(self.acc_no,\"credited \",m)\n",
        "    print(\"balance:\",self.get_bal())\n",
        "\n",
        "  def debit(self,m):\n",
        "    self.bal-=m\n",
        "    print(self.acc_no,\"debited \",m)\n",
        "    print(\"balance:\",self.get_bal())\n",
        "\n",
        "  def get_bal(self):\n",
        "    return self.bal\n",
        "\n",
        "c1=account(5687,8797)\n",
        "c1.credit(56)\n",
        "c1.debit(48)\n"
      ],
      "metadata": {
        "colab": {
          "base_uri": "https://localhost:8080/"
        },
        "id": "AUXutZnNnHeB",
        "outputId": "d0b2d896-6854-478a-8ba0-3943aa72c689"
      },
      "execution_count": null,
      "outputs": [
        {
          "output_type": "stream",
          "name": "stdout",
          "text": [
            "5687 credited  56\n",
            "balance: 8853\n",
            "5687 debited  48\n",
            "balance: 8805\n"
          ]
        }
      ]
    },
    {
      "cell_type": "markdown",
      "source": [
        "# Delete object"
      ],
      "metadata": {
        "id": "dsAaDkVTsFzH"
      }
    },
    {
      "cell_type": "code",
      "source": [
        "class student:\n",
        "  def __init__(self,name):\n",
        "    self.__name=name\n",
        "  def nr(self):\n",
        "    print(self.__name)\n",
        "s1=student(\"celia\")\n",
        "print(s1.nr())\n"
      ],
      "metadata": {
        "colab": {
          "base_uri": "https://localhost:8080/"
        },
        "id": "9hSlRe5WsE56",
        "outputId": "b9b75857-94a1-4bda-e5da-c253e6387194"
      },
      "execution_count": null,
      "outputs": [
        {
          "output_type": "stream",
          "name": "stdout",
          "text": [
            "celia\n",
            "None\n"
          ]
        }
      ]
    },
    {
      "cell_type": "code",
      "source": [
        "del s1.name\n",
        "print(s1.name) # this because we have deleted the object likwise we can delete object"
      ],
      "metadata": {
        "id": "AxFPazkZnHgY",
        "colab": {
          "base_uri": "https://localhost:8080/",
          "height": 159
        },
        "outputId": "1c531d27-f487-4531-ec9b-783c3d8a4f6d"
      },
      "execution_count": null,
      "outputs": [
        {
          "output_type": "error",
          "ename": "AttributeError",
          "evalue": "'student' object has no attribute 'name'",
          "traceback": [
            "\u001b[0;31m---------------------------------------------------------------------------\u001b[0m",
            "\u001b[0;31mAttributeError\u001b[0m                            Traceback (most recent call last)",
            "\u001b[0;32m<ipython-input-2-aa1569226ab9>\u001b[0m in \u001b[0;36m<cell line: 0>\u001b[0;34m()\u001b[0m\n\u001b[1;32m      1\u001b[0m \u001b[0;32mdel\u001b[0m \u001b[0ms1\u001b[0m\u001b[0;34m.\u001b[0m\u001b[0mname\u001b[0m\u001b[0;34m\u001b[0m\u001b[0;34m\u001b[0m\u001b[0m\n\u001b[0;32m----> 2\u001b[0;31m \u001b[0mprint\u001b[0m\u001b[0;34m(\u001b[0m\u001b[0ms1\u001b[0m\u001b[0;34m.\u001b[0m\u001b[0mname\u001b[0m\u001b[0;34m)\u001b[0m\u001b[0;34m\u001b[0m\u001b[0;34m\u001b[0m\u001b[0m\n\u001b[0m",
            "\u001b[0;31mAttributeError\u001b[0m: 'student' object has no attribute 'name'"
          ]
        }
      ]
    },
    {
      "cell_type": "markdown",
      "source": [
        "# Private method and attribute\n",
        "to make an attribute private we have add __(double underscore) infront of the attribute name to make it private\n",
        "\n",
        "\n",
        "--private attribute and methodws aremeant to be used only within the class and are not acessible from outside the class"
      ],
      "metadata": {
        "id": "yOE4EzSUs_P0"
      }
    },
    {
      "cell_type": "code",
      "source": [
        "class student:\n",
        "  def __init__(self,name):\n",
        "    self.__name=name\n",
        "  def nr(self):\n",
        "    print(self.__name)\n",
        "s1=student(\"celia\")\n",
        "print(s1.nr())"
      ],
      "metadata": {
        "id": "LgWamtcPnHis",
        "colab": {
          "base_uri": "https://localhost:8080/"
        },
        "outputId": "76555519-3ff6-432a-a232-93694baac734"
      },
      "execution_count": null,
      "outputs": [
        {
          "output_type": "stream",
          "name": "stdout",
          "text": [
            "celia\n",
            "None\n"
          ]
        }
      ]
    },
    {
      "cell_type": "code",
      "source": [
        "class student:\n",
        "  __name=\"anonymous\"\n",
        "  print(__name)\n",
        "  def __init__(self,age):\n",
        "    self.age=age\n",
        "  def __hello(self):\n",
        "    print(\"hello world\")\n",
        "\n",
        "  def welcome(self):\n",
        "    print(self.__hello())\n",
        "\n",
        "s1=student(39)\n",
        "s1.welcome()\n",
        "\n",
        "\n"
      ],
      "metadata": {
        "id": "gjk2XULHnHlX",
        "colab": {
          "base_uri": "https://localhost:8080/"
        },
        "outputId": "1c0c82e7-2ede-472c-e5a5-99144034cb4d"
      },
      "execution_count": null,
      "outputs": [
        {
          "output_type": "stream",
          "name": "stdout",
          "text": [
            "anonymous\n",
            "hello world\n",
            "None\n"
          ]
        }
      ]
    },
    {
      "cell_type": "markdown",
      "source": [
        "#Inheritance"
      ],
      "metadata": {
        "id": "-qiHvknRzOHA"
      }
    },
    {
      "cell_type": "code",
      "source": [
        "from posixpath import normcase         #Single Inheritance\n",
        "class car:\n",
        "  color=\"red\"\n",
        "  @staticmethod #the method where self not used ,to make simple method (@staticmethod is decorater)\n",
        "  def start():\n",
        "    print(\"car started\")\n",
        "\n",
        "  @staticmethod\n",
        "  def stop():\n",
        "    print(\"car stopped\")\n",
        "\n",
        "class toyota(car):\n",
        "  def __init__(self,name):\n",
        "    self.name=name\n",
        "car1=toyota(\"forunte\")\n",
        "print(car1.name)\n",
        "print(car1.start())\n",
        "print(car1.stop())\n",
        "print(car1.color)"
      ],
      "metadata": {
        "colab": {
          "base_uri": "https://localhost:8080/"
        },
        "id": "Fl-sOcNfzOmT",
        "outputId": "591fc7d4-0621-4781-a854-22742bfb9727"
      },
      "execution_count": null,
      "outputs": [
        {
          "output_type": "stream",
          "name": "stdout",
          "text": [
            "forunte\n",
            "car started\n",
            "None\n",
            "car stopped\n",
            "None\n",
            "red\n"
          ]
        }
      ]
    },
    {
      "cell_type": "markdown",
      "source": [
        "#Types of Inheritance\n",
        "\n",
        "--Single Inheritance\n",
        "\n",
        "\n",
        "--Multilevel Inheritance\n",
        "\n",
        "\n",
        "--Multiple Inhertiance\n"
      ],
      "metadata": {
        "id": "WJjs1DrH3LbQ"
      }
    },
    {
      "cell_type": "code",
      "source": [
        "#Multilevel Inheritance\n",
        "\n",
        "class car:\n",
        "  color=\"red\"\n",
        "  @staticmethod #the method where self not used ,to make simple method (@staticmethod is decorater)\n",
        "  def start():\n",
        "    print(\"car started\")\n",
        "\n",
        "  @staticmethod\n",
        "  def stop():\n",
        "    print(\"car stopped\")\n",
        "\n",
        "class toyota(car):\n",
        "  def __init__(self,name):\n",
        "    self.name=name\n",
        "\n",
        "class forunte(toyota):\n",
        "  def __int__(self,typev):\n",
        "    self.typev=typev\n",
        "\n",
        "\n",
        "car1=forunte(\"petrol\")\n",
        "\n",
        "print(car1.start())\n",
        "print(car1.stop())\n",
        "print(car1.color)"
      ],
      "metadata": {
        "colab": {
          "base_uri": "https://localhost:8080/"
        },
        "id": "Y0-r5Aq0zOpa",
        "outputId": "c676b2ff-0d01-4e57-d917-e5eb0dd4b232"
      },
      "execution_count": null,
      "outputs": [
        {
          "output_type": "stream",
          "name": "stdout",
          "text": [
            "petrol\n",
            "car started\n",
            "None\n",
            "car stopped\n",
            "None\n",
            "red\n"
          ]
        }
      ]
    },
    {
      "cell_type": "code",
      "source": [
        "#Multiple Inheritance\n",
        "class a:\n",
        "  vara=\"a\"\n",
        "class b:\n",
        "  varb=\"b\"\n",
        "class c(a,b):\n",
        "  varc=\"c\"\n",
        "c1=c()\n",
        "print(c1.varc)\n",
        "print(c1.vara)\n",
        "print(c1.varb)"
      ],
      "metadata": {
        "colab": {
          "base_uri": "https://localhost:8080/"
        },
        "id": "sHy4qNRfzOsd",
        "outputId": "e603857e-309b-4c23-fd7b-9e0216d66272"
      },
      "execution_count": null,
      "outputs": [
        {
          "output_type": "stream",
          "name": "stdout",
          "text": [
            "c\n",
            "a\n",
            "b\n"
          ]
        }
      ]
    },
    {
      "cell_type": "markdown",
      "source": [
        "#Super\n",
        "to access the method of parent class."
      ],
      "metadata": {
        "id": "0mfrAXhJ8E8d"
      }
    },
    {
      "cell_type": "code",
      "source": [
        "#Multilevel Inheritance\n",
        "\n",
        "class car:\n",
        "  color=\"red\"\n",
        "  @staticmethod #the method where self not used ,to make simple method (@staticmethod is decorater)\n",
        "  def start():\n",
        "    print(\"car started\")\n",
        "\n",
        "  @staticmethod\n",
        "  def stop():\n",
        "    print(\"car stopped\")\n",
        "\n",
        "class toyota(car):\n",
        "  def __init__(self,name):\n",
        "    self.name=name\n",
        "\n",
        "class forunte(toyota):\n",
        "  def __init__(self,name,typev):\n",
        "    super().__init__(name)\n",
        "    self.typev=typev\n",
        "\n",
        "\n",
        "car1=forunte(\"Forunte\",\"petrol\")\n",
        "print(car1.typev)\n",
        "print(car1.name)\n",
        "print(car1.start())\n",
        "print(car1.stop())\n",
        "print(car1.color)"
      ],
      "metadata": {
        "colab": {
          "base_uri": "https://localhost:8080/"
        },
        "id": "62rAWxijzOuv",
        "outputId": "08cb6979-12fc-425f-88d6-2e00ed97888f"
      },
      "execution_count": null,
      "outputs": [
        {
          "output_type": "stream",
          "name": "stdout",
          "text": [
            "petrol\n",
            "Forunte\n",
            "car started\n",
            "None\n",
            "car stopped\n",
            "None\n",
            "red\n"
          ]
        }
      ]
    },
    {
      "cell_type": "markdown",
      "source": [
        "#Class method (@classmethod)"
      ],
      "metadata": {
        "id": "DbOTpCuuAuoe"
      }
    },
    {
      "cell_type": "code",
      "source": [
        "class student:\n",
        "  name='anonymus'\n",
        "  # def __init__(self,name):\n",
        "  #   student.name=name             #option1\n",
        "\n",
        "  # def __init__(self,name):          #option2\n",
        "  #   self.__class__.name=name\n",
        "\n",
        "  @classmethod\n",
        "  def name(cls,name):\n",
        "    cls.name=name\n",
        "s1=student()\n",
        "s1.name(\"rahul\")\n",
        "print(s1.name)\n",
        "print(student.name)\n"
      ],
      "metadata": {
        "colab": {
          "base_uri": "https://localhost:8080/"
        },
        "id": "QhGiDPPdzOxo",
        "outputId": "43f0f66c-8285-4692-9381-0cd6e635990e"
      },
      "execution_count": null,
      "outputs": [
        {
          "output_type": "stream",
          "name": "stdout",
          "text": [
            "rahul\n",
            "rahul\n"
          ]
        }
      ]
    },
    {
      "cell_type": "code",
      "source": [
        "class student:\n",
        "  def __init__(self,phy,chem,math):\n",
        "    self.phy=phy\n",
        "    self.chem=chem\n",
        "    self.math=math\n",
        "    self.percentage=str(((self.math+self.phy+self.chem)/300)*100)+\"%\"\n",
        "s1=student(98,56,45)\n",
        "print(s1.percentage)"
      ],
      "metadata": {
        "id": "SoabQKooAtK2",
        "colab": {
          "base_uri": "https://localhost:8080/"
        },
        "outputId": "96fbb2b7-1ea7-4600-b751-b2ce6b813794"
      },
      "execution_count": 1,
      "outputs": [
        {
          "output_type": "stream",
          "name": "stdout",
          "text": [
            "66.33333333333333%\n"
          ]
        }
      ]
    },
    {
      "cell_type": "code",
      "source": [
        "s1.chem=90\n",
        "print(s1.percentage) # there no change is reflected"
      ],
      "metadata": {
        "id": "pQyY2Df8zO0N",
        "colab": {
          "base_uri": "https://localhost:8080/"
        },
        "outputId": "2db24d77-e459-4002-d751-5a6afa5b5d98"
      },
      "execution_count": 2,
      "outputs": [
        {
          "output_type": "stream",
          "name": "stdout",
          "text": [
            "66.33333333333333%\n"
          ]
        }
      ]
    },
    {
      "cell_type": "code",
      "source": [
        "class student:\n",
        "  def __init__(self,phy,chem,math):\n",
        "    self.phy=phy\n",
        "    self.chem=chem\n",
        "    self.math=math\n",
        "\n",
        "  def percentage(self):\n",
        "    return str(((self.math+self.phy+self.chem)/300)*100)+\"%\"\n",
        "s1=student(98,56,45)\n",
        "print(s1.percentage())"
      ],
      "metadata": {
        "id": "1GwIbuoszO2l",
        "colab": {
          "base_uri": "https://localhost:8080/"
        },
        "outputId": "5543d2c4-8faa-4eb0-94f8-921c0c4324a8"
      },
      "execution_count": 9,
      "outputs": [
        {
          "output_type": "stream",
          "name": "stdout",
          "text": [
            "66.33333333333333%\n"
          ]
        }
      ]
    },
    {
      "cell_type": "code",
      "source": [
        "s1.chem=90\n",
        "print(s1.percentage())"
      ],
      "metadata": {
        "id": "sbdzmQMgzO42",
        "colab": {
          "base_uri": "https://localhost:8080/"
        },
        "outputId": "2809d987-67b5-4bd4-cf1c-50c72fb8a0ed"
      },
      "execution_count": 10,
      "outputs": [
        {
          "output_type": "stream",
          "name": "stdout",
          "text": [
            "77.66666666666666%\n"
          ]
        }
      ]
    },
    {
      "cell_type": "code",
      "source": [
        "# \"@property\"\n",
        "\n",
        "class student:\n",
        "  def __init__(self,phy,chem,math):\n",
        "    self.phy=phy\n",
        "    self.chem=chem\n",
        "    self.math=math\n",
        "\n",
        "  @property\n",
        "  def percentage(self):\n",
        "    return str(((self.math+self.phy+self.chem)/300)*100)+\"%\"\n",
        "s1=student(98,56,45)\n",
        "print(s1.percentage)\n",
        "s1.chem=90\n",
        "print(s1.percentage)"
      ],
      "metadata": {
        "id": "mPoPUy8EzO7L",
        "colab": {
          "base_uri": "https://localhost:8080/"
        },
        "outputId": "4fb0715b-76c0-45b1-d54a-1d97864e1e16"
      },
      "execution_count": 13,
      "outputs": [
        {
          "output_type": "stream",
          "name": "stdout",
          "text": [
            "66.33333333333333%\n",
            "77.66666666666666%\n"
          ]
        }
      ]
    },
    {
      "cell_type": "code",
      "source": [
        "from ctypes import c_int32\n",
        "#Dunder Functions-function specifed using __(double underscore) eg__init__,__add__ logic is builtin\n",
        "\n",
        "class complex:\n",
        "  def __init__(self,real,img):\n",
        "    self.real=real\n",
        "    self.img=img\n",
        "  def output(self):\n",
        "    print(self.real ,\"i +\",self.img,\"j\")\n",
        "  def __add__(self,c2):\n",
        "    new_real=self.real+c2.real\n",
        "    new_img=self.img+c2.img\n",
        "    return complex(new_real,new_img)\n",
        "\n",
        "c1=complex(3,4)\n",
        "c1.output()\n",
        "\n",
        "c2=complex(5,9)\n",
        "c2.output()\n",
        "\n",
        "c3=c1+c2\n",
        "c3.output()"
      ],
      "metadata": {
        "id": "0V56jQoYzO-N",
        "colab": {
          "base_uri": "https://localhost:8080/"
        },
        "outputId": "6f597874-42a6-418c-dbf5-a542e63339bd"
      },
      "execution_count": 26,
      "outputs": [
        {
          "output_type": "stream",
          "name": "stdout",
          "text": [
            "3 i + 4 j\n",
            "5 i + 9 j\n",
            "8 i + 13 j\n"
          ]
        }
      ]
    },
    {
      "cell_type": "code",
      "source": [
        "class circle:\n",
        "  def __init__(self,rad):\n",
        "    self.rad=rad\n",
        "  def area(self):\n",
        "    area=3.14*(self.rad)**2\n",
        "    print(f\"area:{area:.2f}\")\n",
        "  def perimeter(self):\n",
        "    perimeter=2*3.14*self.rad\n",
        "    print(f\"perimeter:{perimeter:.2f}\")\n",
        "\n",
        "\n",
        "c1=circle(5)\n",
        "c1.area()\n",
        "c1.perimeter()\n"
      ],
      "metadata": {
        "id": "PWzj3hLonHo8",
        "colab": {
          "base_uri": "https://localhost:8080/"
        },
        "outputId": "bde53cf9-7387-4ee0-a23b-07a29f137538"
      },
      "execution_count": 34,
      "outputs": [
        {
          "output_type": "stream",
          "name": "stdout",
          "text": [
            "area:78.50\n",
            "perimeter:31.40\n"
          ]
        }
      ]
    },
    {
      "cell_type": "code",
      "source": [
        "class employee:\n",
        "  def __init__(self,role,dept,salary):\n",
        "    self.role=role\n",
        "    self.dept=dept\n",
        "    self.salary=salary\n",
        "\n",
        "  def showDetails(self):\n",
        "    print(self.role)\n",
        "    print(self.dept)\n",
        "    print(self.salary)\n",
        "class engineer(employee):\n",
        "  def __init__(self,name,age):\n",
        "    self.name=name\n",
        "    self.age=age\n",
        "    # super().__init__(role,dept,salary)\n",
        "\n",
        "    # or\n",
        "\n",
        "    super().__init__(\"analyst\",\"ai\",89)\n",
        "\n",
        "e1=engineer(\"celia\",22)\n",
        "e1.showDetails()\n",
        "\n"
      ],
      "metadata": {
        "colab": {
          "base_uri": "https://localhost:8080/"
        },
        "id": "Olw-rNy4USYC",
        "outputId": "46bf2f21-c9fa-4679-c3be-8e8502557e57"
      },
      "execution_count": 42,
      "outputs": [
        {
          "output_type": "stream",
          "name": "stdout",
          "text": [
            "analyst\n",
            "ai\n",
            "89\n"
          ]
        }
      ]
    },
    {
      "cell_type": "code",
      "source": [
        "class order:\n",
        "  def __init__(self,item,price):\n",
        "    self.item=item\n",
        "    self.price=price\n",
        "\n",
        "  def __gt__(self,p2):\n",
        "    return self.price>p2.price\n",
        "p1=order(\"soap\",254)\n",
        "p2=order(\"cake\",895)\n",
        "\n",
        "print(p1>p2)\n"
      ],
      "metadata": {
        "colab": {
          "base_uri": "https://localhost:8080/"
        },
        "id": "eGXYR9A2V0Wl",
        "outputId": "396a9696-1f90-4ba0-cc81-820fed84db47"
      },
      "execution_count": 47,
      "outputs": [
        {
          "output_type": "stream",
          "name": "stdout",
          "text": [
            "False\n"
          ]
        }
      ]
    }
  ]
}